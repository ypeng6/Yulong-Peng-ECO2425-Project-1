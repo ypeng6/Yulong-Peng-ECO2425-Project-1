{
 "cells": [
  {
   "cell_type": "markdown",
   "metadata": {},
   "source": [
    "### EconML"
   ]
  },
  {
   "cell_type": "code",
   "execution_count": 2,
   "metadata": {},
   "outputs": [],
   "source": [
    "import pandas as pd\n",
    "import numpy as np\n",
    "import psutil\n",
    "from econml.iv.dr import DRIV, SparseLinearDRIV, ForestDRIV, LinearDRIV\n",
    "from matplotlib import pyplot as plt\n",
    "from joblib import Parallel, delayed # for parallel processing\n",
    "import seaborn as sns"
   ]
  },
  {
   "cell_type": "code",
   "execution_count": 3,
   "metadata": {},
   "outputs": [
    {
     "name": "stdout",
     "output_type": "stream",
     "text": [
      "Total Memory: 7.45 GB\n",
      "Available Memory: 0.94 GB\n",
      "Used Memory: 6.51 GB\n"
     ]
    }
   ],
   "source": [
    "# Get the virtual memory details\n",
    "memory_info = psutil.virtual_memory()\n",
    "total_memory = memory_info.total\n",
    "available_memory = memory_info.available\n",
    "used_memory = memory_info.used\n",
    "\n",
    "print(f\"Total Memory: {total_memory / (1024 ** 3):.2f} GB\")\n",
    "print(f\"Available Memory: {available_memory / (1024 ** 3):.2f} GB\")\n",
    "print(f\"Used Memory: {used_memory / (1024 ** 3):.2f} GB\")"
   ]
  },
  {
   "cell_type": "code",
   "execution_count": 4,
   "metadata": {},
   "outputs": [],
   "source": [
    "df = pd.read_csv(\"./Final Data/analysis_input3.csv\")\n",
    "df = df.dropna(subset=['overlap']).dropna()"
   ]
  },
  {
   "cell_type": "code",
   "execution_count": 5,
   "metadata": {},
   "outputs": [],
   "source": [
    "df = df[df['mergerID']!=9]"
   ]
  },
  {
   "cell_type": "code",
   "execution_count": 6,
   "metadata": {},
   "outputs": [],
   "source": [
    "df['branch_closures_tract_binary'] = [1 if x>0 else 0 for x in df['branch_closures_tract'] ]"
   ]
  },
  {
   "cell_type": "code",
   "execution_count": 7,
   "metadata": {},
   "outputs": [],
   "source": [
    "# Define the winsorization function\n",
    "def winsorize_column(df, column, lower_percentile=0.025, upper_percentile=0.975):\n",
    "    lower_bound = df[column].quantile(lower_percentile)\n",
    "    upper_bound = df[column].quantile(upper_percentile)\n",
    "    df[column] = df[column].clip(lower=lower_bound, upper=upper_bound)\n",
    "    return df\n",
    "\n",
    "# Apply winsorization on 'mortgage' and 'sbl_total'\n",
    "df = winsorize_column(df, 'mortgage', 0.01, 0.99)\n",
    "df = winsorize_column(df, 'sbl_total', 0.01, 0.99)"
   ]
  },
  {
   "cell_type": "code",
   "execution_count": 8,
   "metadata": {},
   "outputs": [],
   "source": [
    "# Step 2: Create event_year variable\n",
    "df['event_year'] = df['year'] - df['EFFDATE']\n",
    "\n",
    "# Step 3: Preserve, then generate close_2yr\n",
    "df['close_2yr'] = 0\n",
    "df.loc[((df['event_year'] == 0) |(df['event_year'] == 1)), 'close_2yr'] = df['branch_closures_tract_binary'] #(df['event_year'] == 0) | \n",
    "\n",
    "# Collapse (taking max of 'close_2yr') and group by relevant columns\n",
    "df_collapsed = df.groupby(['state', 'county', 'tract', 'overlap', 'mergerID']).agg({'close_2yr': 'max'}).reset_index()\n",
    "tempclose2 = df_collapsed.copy()\n",
    "# Merge the collapsed dataframe back into the original one\n",
    "df.drop(columns=['close_2yr'], inplace=True)\n",
    "df = df.merge(tempclose2, on=['state', 'county', 'tract', 'overlap', 'mergerID'], how='left')"
   ]
  },
  {
   "cell_type": "code",
   "execution_count": 9,
   "metadata": {},
   "outputs": [],
   "source": [
    "# Step 4: Generate POST, POST_close, and POST_expose variables\n",
    "df['POST'] = (df['event_year'] > 0).astype(int)\n",
    "df['POST_close'] = df['POST'] * df['close_2yr']\n",
    "df['POST_expose'] = df['POST'] * df['overlap']\n",
    "\n",
    "# Step 4: Generate year dummies (ydum1999 to ydum2013)\n",
    "for year in range(2010, 2023):\n",
    "    df[f'ydum{year}'] = (df['year'] == year).astype(int)\n",
    "    \n",
    "# Step 5: Interact control variables with year dummies\n",
    "control_vars = ['poptot', 'popden', 'pminority', 'pcollege', 'medincome', 'total_branches_county', 'avg_branch_growth_county']\n",
    "\n",
    "\n",
    "# Step 7: Create group variables\n",
    "df['group_timeID'] = pd.Categorical(pd.factorize(df[['state', 'county', 'year']].apply(tuple, axis=1))[0])\n",
    "df['indivID'] = pd.Categorical(pd.factorize(df[['state', 'county', 'tract']].apply(tuple, axis=1))[0])\n",
    "df['clustID'] = pd.Categorical(pd.factorize(df[['state', 'county']].apply(tuple, axis=1))[0])"
   ]
  },
  {
   "cell_type": "code",
   "execution_count": 10,
   "metadata": {},
   "outputs": [],
   "source": [
    "def demean(df, group_vars, vars_to_demean):\n",
    "    \"\"\"\n",
    "    Demean variables by group variables (fixed effects).\n",
    "    \n",
    "    Args:\n",
    "        df (pd.DataFrame): The dataframe containing the data.\n",
    "        group_vars (list of str): List of column names representing the fixed effect variables.\n",
    "        vars_to_demean (list of str): List of variables to demean.\n",
    "        \n",
    "    Returns:\n",
    "        df_demeaned (pd.DataFrame): DataFrame with demeaned variables.\n",
    "    \"\"\"\n",
    "    df_demeaned = df.copy()\n",
    "    \n",
    "    # Group by the fixed effect variables and calculate group means\n",
    "    group_means = df.groupby(group_vars, observed=True)[vars_to_demean].transform('mean')\n",
    "    \n",
    "    # Subtract the group means from the original variables to demean\n",
    "    df_demeaned[vars_to_demean] = df[vars_to_demean] - group_means\n",
    "    \n",
    "    return df_demeaned"
   ]
  },
  {
   "cell_type": "code",
   "execution_count": 11,
   "metadata": {},
   "outputs": [],
   "source": [
    "# List of variables to demean (dependent variable, endogenous variable, exogenous variables)\n",
    "vars_to_demean = ['sbl_total', 'vol_sbus', 'sbl_total_num', 'num_sbus', 'mortgage'] + control_vars\n",
    "\n",
    "\n",
    "# Demean the dataset by indivID and group_timeID\n",
    "df_demeaned = demean(df, 'indivID', vars_to_demean)\n",
    "\n",
    "df_final = demean(df_demeaned, 'group_timeID', vars_to_demean)"
   ]
  },
  {
   "cell_type": "code",
   "execution_count": 12,
   "metadata": {},
   "outputs": [],
   "source": [
    "df_dowhy = df_final.dropna(subset = ['branch_closures_tract', 'total_branches_tract', 'sbl_total', 'POST_close', 'POST_expose'] + control_vars)"
   ]
  },
  {
   "cell_type": "code",
   "execution_count": 13,
   "metadata": {},
   "outputs": [],
   "source": [
    "np.random.seed(88)\n",
    "\n",
    "y = df_dowhy[\"sbl_total\"] #branch_closures_tract\n",
    "T = df_dowhy[\"POST_close\"]\n",
    "I = df_dowhy['POST_expose']\n",
    "X = df_dowhy[control_vars]\n",
    "\n",
    "treated_group = df_dowhy[df_dowhy['POST_close'] == 1][control_vars]\n",
    "control_group = df_dowhy[df_dowhy['POST_close'] == 0][control_vars]"
   ]
  },
  {
   "cell_type": "code",
   "execution_count": 14,
   "metadata": {},
   "outputs": [],
   "source": [
    "def boot_models(model_choice, y, T, I, X):\n",
    "    #scaler = StandardScaler()\n",
    "    #X_scaled = scaler.fit_transform(X)\n",
    "    \n",
    "    est = model_choice(discrete_treatment=True, discrete_instrument=True)\n",
    "\n",
    "    est.fit(Y = y, T = T, Z = I, X = X)\n",
    "\n",
    "    return est.effect(treated_group).mean() - est.effect(control_group).mean()"
   ]
  },
  {
   "cell_type": "code",
   "execution_count": 15,
   "metadata": {},
   "outputs": [],
   "source": [
    "def plot_ate_CI(ates):\n",
    "    print(f\"ATE: {ates.mean()}\")\n",
    "    print(f\"95% C.I.: {(np.percentile(ates, 2.5), np.percentile(ates, 97.5))}\")\n",
    "    sns.distplot(ates, kde=False)\n",
    "    plt.vlines(np.percentile(ates, 2.5), 0, 30, linestyles=\"dotted\")\n",
    "    plt.vlines(np.percentile(ates, 97.5), 0, 30, linestyles=\"dotted\", label=\"95% CI\")\n",
    "    plt.title(\"LATE Bootstrap Distribution\")\n",
    "    plt.legend()"
   ]
  },
  {
   "cell_type": "code",
   "execution_count": 16,
   "metadata": {},
   "outputs": [],
   "source": [
    "bootstrap_sample = 1000"
   ]
  },
  {
   "cell_type": "code",
   "execution_count": 16,
   "metadata": {},
   "outputs": [],
   "source": [
    "atesDRIV = Parallel(n_jobs=6)(delayed(boot_models)(DRIV, y, T, I, X.sample(frac=1, replace=True))\n",
    "                        for _ in range(bootstrap_sample))\n",
    "atesDRIV = np.array(atesDRIV)"
   ]
  },
  {
   "cell_type": "code",
   "execution_count": 23,
   "metadata": {},
   "outputs": [
    {
     "name": "stdout",
     "output_type": "stream",
     "text": [
      "ATE: -100.5147387737434\n",
      "95% C.I.: (-4751.659921111335, 4991.180866219006)\n"
     ]
    },
    {
     "name": "stderr",
     "output_type": "stream",
     "text": [
      "\n",
      "\n",
      "`distplot` is a deprecated function and will be removed in seaborn v0.14.0.\n",
      "\n",
      "Please adapt your code to use either `displot` (a figure-level function with\n",
      "similar flexibility) or `histplot` (an axes-level function for histograms).\n",
      "\n",
      "For a guide to updating your code to use the new functions, please see\n",
      "https://gist.github.com/mwaskom/de44147ed2974457ad6372750bbe5751\n",
      "\n"
     ]
    },
    {
     "data": {
      "image/png": "[encoded data removed]",
      "text/plain": [
       "<Figure size 640x480 with 1 Axes>"
      ]
     },
     "metadata": {},
     "output_type": "display_data"
    }
   ],
   "source": [
    "plot_ate_CI(atesDRIV)"
   ]
  },
  {
   "cell_type": "code",
   "execution_count": 17,
   "metadata": {},
   "outputs": [],
   "source": [
    "atesLinearDRIV = Parallel(n_jobs=6)(delayed(boot_models)(LinearDRIV, y, T, I, X.sample(frac=1, replace=True))\n",
    "                        for _ in range(bootstrap_sample))\n",
    "atesLinearDRIV = np.array(atesLinearDRIV)"
   ]
  },
  {
   "cell_type": "code",
   "execution_count": 18,
   "metadata": {},
   "outputs": [
    {
     "name": "stdout",
     "output_type": "stream",
     "text": [
      "ATE: 271.3421546102161\n",
      "95% C.I.: (-4945.165767518642, 6546.687670153992)\n"
     ]
    },
    {
     "name": "stderr",
     "output_type": "stream",
     "text": [
      "\n",
      "\n",
      "`distplot` is a deprecated function and will be removed in seaborn v0.14.0.\n",
      "\n",
      "Please adapt your code to use either `displot` (a figure-level function with\n",
      "similar flexibility) or `histplot` (an axes-level function for histograms).\n",
      "\n",
      "For a guide to updating your code to use the new functions, please see\n",
      "https://gist.github.com/mwaskom/de44147ed2974457ad6372750bbe5751\n",
      "\n"
     ]
    },
    {
     "data": {
      "image/png": "[encoded data removed]",
      "text/plain": [
       "<Figure size 640x480 with 1 Axes>"
      ]
     },
     "metadata": {},
     "output_type": "display_data"
    }
   ],
   "source": [
    "plot_ate_CI(atesLinearDRIV)"
   ]
  },
  {
   "cell_type": "code",
   "execution_count": 20,
   "metadata": {},
   "outputs": [],
   "source": [
    "atesForestDRIV = Parallel(n_jobs=6)(delayed(boot_models)(ForestDRIV, y, T, I, X.sample(frac=1, replace=True))\n",
    "                        for _ in range(bootstrap_sample))\n",
    "atesForestDRIV = np.array(atesForestDRIV)"
   ]
  },
  {
   "cell_type": "code",
   "execution_count": 19,
   "metadata": {},
   "outputs": [
    {
     "ename": "NameError",
     "evalue": "name 'atesForestDRIV' is not defined",
     "output_type": "error",
     "traceback": [
      "\u001b[1;31m---------------------------------------------------------------------------\u001b[0m",
      "\u001b[1;31mNameError\u001b[0m                                 Traceback (most recent call last)",
      "Cell \u001b[1;32mIn[19], line 1\u001b[0m\n\u001b[1;32m----> 1\u001b[0m plot_ate_CI(atesForestDRIV)\n",
      "\u001b[1;31mNameError\u001b[0m: name 'atesForestDRIV' is not defined"
     ]
    }
   ],
   "source": [
    "plot_ate_CI(atesForestDRIV)"
   ]
  },
  {
   "cell_type": "code",
   "execution_count": null,
   "metadata": {},
   "outputs": [],
   "source": []
  }
 ],
 "metadata": {
  "kernelspec": {
   "display_name": "base",
   "language": "python",
   "name": "python3"
  },
  "language_info": {
   "codemirror_mode": {
    "name": "ipython",
    "version": 3
   },
   "file_extension": ".py",
   "mimetype": "text/x-python",
   "name": "python",
   "nbconvert_exporter": "python",
   "pygments_lexer": "ipython3",
   "version": "3.11.5"
  }
 },
 "nbformat": 4,
 "nbformat_minor": 2
}
