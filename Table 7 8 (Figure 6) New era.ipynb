{
 "cells": [
  {
   "cell_type": "markdown",
   "metadata": {},
   "source": [
    "## OLS, RF, and IV"
   ]
  },
  {
   "cell_type": "code",
   "execution_count": 1,
   "metadata": {},
   "outputs": [],
   "source": [
    "import pandas as pd\n",
    "import numpy as np\n",
    "import statsmodels.api as sm\n",
    "from linearmodels import AbsorbingLS\n",
    "from linearmodels import PanelOLS\n",
    "import itertools\n",
    "from linearmodels.iv import IV2SLS\n",
    "import warnings\n",
    "from linearmodels.iv.absorbing import AbsorbingEffectWarning\n",
    "import psutil\n",
    "import matplotlib.pyplot as plt\n",
    "import statsmodels.formula.api as smf"
   ]
  },
  {
   "cell_type": "code",
   "execution_count": 2,
   "metadata": {},
   "outputs": [
    {
     "name": "stdout",
     "output_type": "stream",
     "text": [
      "Total Memory: 7.45 GB\n",
      "Available Memory: 0.88 GB\n",
      "Used Memory: 6.57 GB\n"
     ]
    }
   ],
   "source": [
    "# Get the virtual memory details\n",
    "memory_info = psutil.virtual_memory()\n",
    "total_memory = memory_info.total\n",
    "available_memory = memory_info.available\n",
    "used_memory = memory_info.used\n",
    "\n",
    "print(f\"Total Memory: {total_memory / (1024 ** 3):.2f} GB\")\n",
    "print(f\"Available Memory: {available_memory / (1024 ** 3):.2f} GB\")\n",
    "print(f\"Used Memory: {used_memory / (1024 ** 3):.2f} GB\")"
   ]
  },
  {
   "cell_type": "code",
   "execution_count": 3,
   "metadata": {},
   "outputs": [],
   "source": [
    "df = pd.read_csv(\"./Final Data/analysis_input.csv\")\n",
    "df['principal_city_binary'] = df['principal_city'] = np.where(df['principal_city'] == 999999, np.nan, np.where(df['principal_city'] == 0, 0, 1))\n",
    "df['urban_rural_binary'] = np.where(df['urbanrural'].isin(['M', 'U']), 1, np.where(df['urbanrural'] == 'R', 0, np.nan))\n",
    "# Merger Sample\n",
    "df = df.dropna(subset=['overlap'])\n",
    "df_final = df.copy()"
   ]
  },
  {
   "cell_type": "code",
   "execution_count": 7,
   "metadata": {},
   "outputs": [],
   "source": [
    "# Step 8: Define the function to run regressions\n",
    "def run_regression(df, outcome_var, control_vars_prefixes):\n",
    "    # Ensure the dataframe is indexed properly with MultiIndex for fixed effects\n",
    "    df_regression = df.copy()\n",
    "    #df_regression.set_index(['indivID', 'group_timeID'], inplace=True)\n",
    "\n",
    "    # Prepare dependent and independent variables\n",
    "    \n",
    "    control_vars = []\n",
    "    for prefix in control_vars_prefixes:\n",
    "        control_vars += [col for col in df_regression.columns if col.startswith(prefix)]\n",
    "    \n",
    "    # Combining edum* and control variables\n",
    "    df2 = df_regression[[outcome_var] + control_vars + ['indivID', 'group_timeID','clustID']].dropna()\n",
    "    X = df2[control_vars]\n",
    "    y = df2[outcome_var]\n",
    "    \n",
    "    # Running the PanelOLS regression with fixed effects and clustering by clustID\n",
    "    #model = PanelOLS(y, X, entity_effects=True, drop_absorbed=True, check_rank=False).fit(cov_type='clustered', clusters=df_regression['clustID'])\n",
    "\n",
    "    # Absorbing fixed effects (indivID and group_timeID) and clustering by clustID\n",
    "    model = AbsorbingLS(y, X,  drop_absorbed=True).fit(cov_type='clustered', clusters=df2['clustID'])\n",
    "\n",
    "    \n",
    "    return model"
   ]
  },
  {
   "cell_type": "code",
   "execution_count": 8,
   "metadata": {},
   "outputs": [],
   "source": [
    "# Step 10: IV Estimation\n",
    "def run_iv_regression(df, dep_var, endog_var, instrument_var, control_vars):\n",
    "    # Prepare dependent and independent variables\n",
    "    df_regression = df.copy()\n",
    "    df_regression.set_index(['indivID', 'group_timeID'], inplace=True)\n",
    "    \n",
    "    # Combining edum* and control variables\n",
    "    df2 = df_regression[[dep_var, endog_var, instrument_var] + control_vars + ['clustID']].dropna()\n",
    "\n",
    "    y = df2[dep_var]  # Dependent variable\n",
    "    endog = df2[endog_var]  # Endogenous variable\n",
    "    #print(endog)\n",
    "    instrument = df2[instrument_var]  # Instrument\n",
    "    #print(df2[exog_vars])\n",
    "    exog = df2[control_vars]#.drop(labels = ['poptot1999', 'poptot2000', 'poptot2001', 'poptot2002', 'poptot2003', 'poptot2004', 'poptot2005', 'poptot2006', 'poptot2007', 'poptot2008', 'poptot2009', 'popden1999', 'popden2000', 'popden2001', 'popden2002', 'popden2003', 'popden2004', 'popden2005', 'popden2006', 'popden2007', 'popden2008', 'popden2009', 'pminority1999', 'pminority2000', 'pminority2001', 'pminority2002', 'pminority2003', 'pminority2004', 'pminority2005', 'pminority2006', 'pminority2007', 'pminority2008', 'pminority2009', 'pcollege1999', 'pcollege2000', 'pcollege2001', 'pcollege200'2, pcollege2003, pcollege2004, pcollege2005, pcollege2006, pcollege2007, pcollege2008, pcollege2009, medincome1999, medincome2000, medincome2001, medincome2002, medincome2003, medincome2004, medincome2005, medincome2006, medincome2007, medincome2008, medincome2009, total_branches_county1999, total_branches_county2000, total_branches_county2001, total_branches_county2002, total_branches_county2003, total_branches_county2004, total_branches_county2005, total_branches_county2006, total_branches_county2007, total_branches_county2008, total_branches_county2009, avg_branch_growth_county1999, avg_branch_growth_county2000, avg_branch_growth_county2001, avg_branch_growth_county2002, avg_branch_growth_county2003, avg_branch_growth_county2004, avg_branch_growth_county2005, avg_branch_growth_county2006, avg_branch_growth_county2007, avg_branch_growth_county2008, avg_branch_growth_county2009]\n",
    "    # IV regression using IV2SLS\n",
    "    model = IV2SLS(y, exog, endog, instrument)\n",
    "    result = model.fit(cov_type='clustered', clusters=df2['clustID'])\n",
    "    \n",
    "    return result"
   ]
  },
  {
   "cell_type": "code",
   "execution_count": 9,
   "metadata": {},
   "outputs": [],
   "source": [
    "ols_prefixes = ['POST_close','poptot', 'popden', 'pminority', 'pcollege', 'medincome', 'total_branches_county', 'avg_branch_growth_county']\n",
    "rf_prefixes = ['POST_expose','poptot', 'popden', 'pminority', 'pcollege', 'medincome', 'total_branches_county', 'avg_branch_growth_county']\n",
    "iv_prefixes = ['poptot', 'popden', 'pminority', 'pcollege', 'medincome', 'total_branches_county', 'avg_branch_growth_county']"
   ]
  },
  {
   "cell_type": "code",
   "execution_count": 10,
   "metadata": {},
   "outputs": [],
   "source": [
    "# OLS for NumSBL_Rev1 \n",
    "ols_result_1 = run_regression(df_final, 'sbl_total', ols_prefixes)\n",
    "ols_result_2 = run_regression(df_final, 'vol_sbus', ols_prefixes)\n",
    "ols_result_3 = run_regression(df_final, 'sbl_total_num', ols_prefixes)\n",
    "ols_result_4 = run_regression(df_final, 'num_sbus', ols_prefixes)"
   ]
  },
  {
   "cell_type": "code",
   "execution_count": 11,
   "metadata": {},
   "outputs": [
    {
     "data": {
      "text/html": [
       "<table class=\"simpletable\">\n",
       "<caption>Absorbing LS Estimation Summary</caption>\n",
       "<tr>\n",
       "  <th>Dep. Variable:</th>        <td>sbl_total</td>    <th>  R-squared:         </th>     <td>0.0106</td> \n",
       "</tr>\n",
       "<tr>\n",
       "  <th>Estimator:</th>          <td>Absorbing LS</td>   <th>  Adj. R-squared:    </th>     <td>0.0104</td> \n",
       "</tr>\n",
       "<tr>\n",
       "  <th>No. Observations:</th>       <td>38048</td>      <th>  F-statistic:       </th>     <td>94.263</td> \n",
       "</tr>\n",
       "<tr>\n",
       "  <th>Date:</th>             <td>Sun, Oct 20 2024</td> <th>  P-value (F-stat):  </th>     <td>0.0000</td> \n",
       "</tr>\n",
       "<tr>\n",
       "  <th>Time:</th>                 <td>03:09:20</td>     <th>  Distribution:      </th>     <td>chi2(9)</td>\n",
       "</tr>\n",
       "<tr>\n",
       "  <th>Cov. Estimator:</th>       <td>clustered</td>    <th>  R-squared (No Effects):</th> <td>0.0106</td> \n",
       "</tr>\n",
       "<tr>\n",
       "  <th></th>                          <td></td>         <th>  Variables Absorbed:</th>     <td>0.0000</td> \n",
       "</tr>\n",
       "</table>\n",
       "<table class=\"simpletable\">\n",
       "<caption>Parameter Estimates</caption>\n",
       "<tr>\n",
       "              <td></td>             <th>Parameter</th> <th>Std. Err.</th> <th>T-stat</th>  <th>P-value</th> <th>Lower CI</th> <th>Upper CI</th> \n",
       "</tr>\n",
       "<tr>\n",
       "  <th>POST_close</th>                <td>2235.4</td>    <td>1606.1</td>   <td>1.3918</td>  <td>0.1640</td>   <td>-912.44</td>  <td>5383.2</td>  \n",
       "</tr>\n",
       "<tr>\n",
       "  <th>poptot</th>                    <td>0.7555</td>    <td>0.2671</td>   <td>2.8287</td>  <td>0.0047</td>   <td>0.2320</td>   <td>1.2789</td>  \n",
       "</tr>\n",
       "<tr>\n",
       "  <th>poptot25</th>                  <td>0.0023</td>    <td>0.0029</td>   <td>0.7839</td>  <td>0.4331</td>   <td>-0.0034</td>  <td>0.0080</td>  \n",
       "</tr>\n",
       "<tr>\n",
       "  <th>popden</th>                    <td>0.3640</td>    <td>0.2701</td>   <td>1.3480</td>  <td>0.1777</td>   <td>-0.1653</td>  <td>0.8934</td>  \n",
       "</tr>\n",
       "<tr>\n",
       "  <th>pminority</th>                 <td>-60.877</td>   <td>31.634</td>   <td>-1.9245</td> <td>0.0543</td>   <td>-122.88</td>  <td>1.1233</td>  \n",
       "</tr>\n",
       "<tr>\n",
       "  <th>pcollege</th>                  <td>6144.3</td>    <td>3213.9</td>   <td>1.9118</td>  <td>0.0559</td>   <td>-154.87</td> <td>1.244e+04</td>\n",
       "</tr>\n",
       "<tr>\n",
       "  <th>medincome</th>                 <td>0.0239</td>    <td>0.0175</td>   <td>1.3598</td>  <td>0.1739</td>   <td>-0.0105</td>  <td>0.0583</td>  \n",
       "</tr>\n",
       "<tr>\n",
       "  <th>total_branches_county</th>     <td>-34.897</td>   <td>22.671</td>   <td>-1.5393</td> <td>0.1237</td>   <td>-79.332</td>  <td>9.5382</td>  \n",
       "</tr>\n",
       "<tr>\n",
       "  <th>avg_branch_growth_county</th>  <td>-574.83</td>   <td>945.93</td>   <td>-0.6077</td> <td>0.5434</td>   <td>-2428.8</td>  <td>1279.1</td>  \n",
       "</tr>\n",
       "</table><br/>id: 0x18001dc04d0"
      ],
      "text/plain": [
       "                         Absorbing LS Estimation Summary                          \n",
       "==================================================================================\n",
       "Dep. Variable:              sbl_total   R-squared:                          0.0106\n",
       "Estimator:               Absorbing LS   Adj. R-squared:                     0.0104\n",
       "No. Observations:               38048   F-statistic:                        94.263\n",
       "Date:                Sun, Oct 20 2024   P-value (F-stat):                   0.0000\n",
       "Time:                        03:09:20   Distribution:                      chi2(9)\n",
       "Cov. Estimator:             clustered   R-squared (No Effects):             0.0106\n",
       "                                        Variables Absorbed:                 0.0000\n",
       "                                    Parameter Estimates                                     \n",
       "============================================================================================\n",
       "                          Parameter  Std. Err.     T-stat    P-value    Lower CI    Upper CI\n",
       "--------------------------------------------------------------------------------------------\n",
       "POST_close                   2235.4     1606.1     1.3918     0.1640     -912.44      5383.2\n",
       "poptot                       0.7555     0.2671     2.8287     0.0047      0.2320      1.2789\n",
       "poptot25                     0.0023     0.0029     0.7839     0.4331     -0.0034      0.0080\n",
       "popden                       0.3640     0.2701     1.3480     0.1777     -0.1653      0.8934\n",
       "pminority                   -60.877     31.634    -1.9245     0.0543     -122.88      1.1233\n",
       "pcollege                     6144.3     3213.9     1.9118     0.0559     -154.87   1.244e+04\n",
       "medincome                    0.0239     0.0175     1.3598     0.1739     -0.0105      0.0583\n",
       "total_branches_county       -34.897     22.671    -1.5393     0.1237     -79.332      9.5382\n",
       "avg_branch_growth_county    -574.83     945.93    -0.6077     0.5434     -2428.8      1279.1\n",
       "============================================================================================\n",
       "AbsorbingLSResults, id: 0x18001dc04d0"
      ]
     },
     "execution_count": 11,
     "metadata": {},
     "output_type": "execute_result"
    }
   ],
   "source": [
    "ols_result_1"
   ]
  },
  {
   "cell_type": "code",
   "execution_count": 17,
   "metadata": {},
   "outputs": [
    {
     "data": {
      "text/html": [
       "<table class=\"simpletable\">\n",
       "<caption>Absorbing LS Estimation Summary</caption>\n",
       "<tr>\n",
       "  <th>Dep. Variable:</th>      <td>sbl_total_num</td>  <th>  R-squared:         </th>     <td>0.0387</td> \n",
       "</tr>\n",
       "<tr>\n",
       "  <th>Estimator:</th>          <td>Absorbing LS</td>   <th>  Adj. R-squared:    </th>     <td>0.0385</td> \n",
       "</tr>\n",
       "<tr>\n",
       "  <th>No. Observations:</th>       <td>38048</td>      <th>  F-statistic:       </th>     <td>185.06</td> \n",
       "</tr>\n",
       "<tr>\n",
       "  <th>Date:</th>             <td>Sun, Oct 20 2024</td> <th>  P-value (F-stat):  </th>     <td>0.0000</td> \n",
       "</tr>\n",
       "<tr>\n",
       "  <th>Time:</th>                 <td>03:09:20</td>     <th>  Distribution:      </th>     <td>chi2(9)</td>\n",
       "</tr>\n",
       "<tr>\n",
       "  <th>Cov. Estimator:</th>       <td>clustered</td>    <th>  R-squared (No Effects):</th> <td>0.0387</td> \n",
       "</tr>\n",
       "<tr>\n",
       "  <th></th>                          <td></td>         <th>  Variables Absorbed:</th>     <td>0.0000</td> \n",
       "</tr>\n",
       "</table>\n",
       "<table class=\"simpletable\">\n",
       "<caption>Parameter Estimates</caption>\n",
       "<tr>\n",
       "              <td></td>             <th>Parameter</th> <th>Std. Err.</th> <th>T-stat</th>  <th>P-value</th> <th>Lower CI</th>  <th>Upper CI</th>\n",
       "</tr>\n",
       "<tr>\n",
       "  <th>POST_close</th>                <td>18.923</td>    <td>12.165</td>   <td>1.5555</td>  <td>0.1198</td>   <td>-4.9206</td>   <td>42.767</td> \n",
       "</tr>\n",
       "<tr>\n",
       "  <th>poptot</th>                    <td>0.0228</td>    <td>0.0043</td>   <td>5.2648</td>  <td>0.0000</td>   <td>0.0143</td>    <td>0.0312</td> \n",
       "</tr>\n",
       "<tr>\n",
       "  <th>poptot25</th>                  <td>0.0001</td>   <td>3.739e-05</td> <td>2.7274</td>  <td>0.0064</td>  <td>2.869e-05</td>  <td>0.0002</td> \n",
       "</tr>\n",
       "<tr>\n",
       "  <th>popden</th>                    <td>0.0031</td>    <td>0.0026</td>   <td>1.2090</td>  <td>0.2267</td>   <td>-0.0019</td>   <td>0.0082</td> \n",
       "</tr>\n",
       "<tr>\n",
       "  <th>pminority</th>                 <td>-1.0696</td>   <td>0.4167</td>   <td>-2.5669</td> <td>0.0103</td>   <td>-1.8862</td>   <td>-0.2529</td>\n",
       "</tr>\n",
       "<tr>\n",
       "  <th>pcollege</th>                  <td>53.796</td>    <td>42.307</td>   <td>1.2716</td>  <td>0.2035</td>   <td>-29.125</td>   <td>136.72</td> \n",
       "</tr>\n",
       "<tr>\n",
       "  <th>medincome</th>                 <td>0.0005</td>    <td>0.0002</td>   <td>2.8800</td>  <td>0.0040</td>   <td>0.0002</td>    <td>0.0008</td> \n",
       "</tr>\n",
       "<tr>\n",
       "  <th>total_branches_county</th>     <td>-0.4349</td>   <td>0.4553</td>   <td>-0.9550</td> <td>0.3396</td>   <td>-1.3273</td>   <td>0.4576</td> \n",
       "</tr>\n",
       "<tr>\n",
       "  <th>avg_branch_growth_county</th>  <td>-14.644</td>   <td>14.876</td>   <td>-0.9844</td> <td>0.3249</td>   <td>-43.800</td>   <td>14.512</td> \n",
       "</tr>\n",
       "</table><br/>id: 0x18007e32bd0"
      ],
      "text/plain": [
       "                         Absorbing LS Estimation Summary                          \n",
       "==================================================================================\n",
       "Dep. Variable:          sbl_total_num   R-squared:                          0.0387\n",
       "Estimator:               Absorbing LS   Adj. R-squared:                     0.0385\n",
       "No. Observations:               38048   F-statistic:                        185.06\n",
       "Date:                Sun, Oct 20 2024   P-value (F-stat):                   0.0000\n",
       "Time:                        03:09:20   Distribution:                      chi2(9)\n",
       "Cov. Estimator:             clustered   R-squared (No Effects):             0.0387\n",
       "                                        Variables Absorbed:                 0.0000\n",
       "                                    Parameter Estimates                                     \n",
       "============================================================================================\n",
       "                          Parameter  Std. Err.     T-stat    P-value    Lower CI    Upper CI\n",
       "--------------------------------------------------------------------------------------------\n",
       "POST_close                   18.923     12.165     1.5555     0.1198     -4.9206      42.767\n",
       "poptot                       0.0228     0.0043     5.2648     0.0000      0.0143      0.0312\n",
       "poptot25                     0.0001  3.739e-05     2.7274     0.0064   2.869e-05      0.0002\n",
       "popden                       0.0031     0.0026     1.2090     0.2267     -0.0019      0.0082\n",
       "pminority                   -1.0696     0.4167    -2.5669     0.0103     -1.8862     -0.2529\n",
       "pcollege                     53.796     42.307     1.2716     0.2035     -29.125      136.72\n",
       "medincome                    0.0005     0.0002     2.8800     0.0040      0.0002      0.0008\n",
       "total_branches_county       -0.4349     0.4553    -0.9550     0.3396     -1.3273      0.4576\n",
       "avg_branch_growth_county    -14.644     14.876    -0.9844     0.3249     -43.800      14.512\n",
       "============================================================================================\n",
       "AbsorbingLSResults, id: 0x18007e32bd0"
      ]
     },
     "execution_count": 17,
     "metadata": {},
     "output_type": "execute_result"
    }
   ],
   "source": [
    "ols_result_3"
   ]
  },
  {
   "cell_type": "code",
   "execution_count": 12,
   "metadata": {},
   "outputs": [],
   "source": [
    "# RF for NumSBL_Rev1 \n",
    "rf_result_1 = run_regression(df_final, 'sbl_total', rf_prefixes)\n",
    "rf_result_2 = run_regression(df_final, 'vol_sbus', rf_prefixes)\n",
    "rf_result_3 = run_regression(df_final, 'sbl_total_num', rf_prefixes)\n",
    "rf_result_4 = run_regression(df_final, 'num_sbus', rf_prefixes)"
   ]
  },
  {
   "cell_type": "code",
   "execution_count": 13,
   "metadata": {},
   "outputs": [
    {
     "data": {
      "text/html": [
       "<table class=\"simpletable\">\n",
       "<caption>Absorbing LS Estimation Summary</caption>\n",
       "<tr>\n",
       "  <th>Dep. Variable:</th>        <td>sbl_total</td>    <th>  R-squared:         </th>     <td>0.0116</td> \n",
       "</tr>\n",
       "<tr>\n",
       "  <th>Estimator:</th>          <td>Absorbing LS</td>   <th>  Adj. R-squared:    </th>     <td>0.0114</td> \n",
       "</tr>\n",
       "<tr>\n",
       "  <th>No. Observations:</th>       <td>38048</td>      <th>  F-statistic:       </th>     <td>89.999</td> \n",
       "</tr>\n",
       "<tr>\n",
       "  <th>Date:</th>             <td>Sun, Oct 20 2024</td> <th>  P-value (F-stat):  </th>     <td>0.0000</td> \n",
       "</tr>\n",
       "<tr>\n",
       "  <th>Time:</th>                 <td>03:09:21</td>     <th>  Distribution:      </th>     <td>chi2(9)</td>\n",
       "</tr>\n",
       "<tr>\n",
       "  <th>Cov. Estimator:</th>       <td>clustered</td>    <th>  R-squared (No Effects):</th> <td>0.0116</td> \n",
       "</tr>\n",
       "<tr>\n",
       "  <th></th>                          <td></td>         <th>  Variables Absorbed:</th>     <td>0.0000</td> \n",
       "</tr>\n",
       "</table>\n",
       "<table class=\"simpletable\">\n",
       "<caption>Parameter Estimates</caption>\n",
       "<tr>\n",
       "              <td></td>             <th>Parameter</th> <th>Std. Err.</th> <th>T-stat</th>  <th>P-value</th> <th>Lower CI</th> <th>Upper CI</th> \n",
       "</tr>\n",
       "<tr>\n",
       "  <th>POST_expose</th>               <td>3300.7</td>    <td>2464.6</td>   <td>1.3393</td>  <td>0.1805</td>   <td>-1529.8</td>  <td>8131.3</td>  \n",
       "</tr>\n",
       "<tr>\n",
       "  <th>poptot</th>                    <td>0.7553</td>    <td>0.2632</td>   <td>2.8700</td>  <td>0.0041</td>   <td>0.2395</td>   <td>1.2711</td>  \n",
       "</tr>\n",
       "<tr>\n",
       "  <th>poptot25</th>                  <td>0.0023</td>    <td>0.0029</td>   <td>0.7898</td>  <td>0.4296</td>   <td>-0.0034</td>  <td>0.0079</td>  \n",
       "</tr>\n",
       "<tr>\n",
       "  <th>popden</th>                    <td>0.3539</td>    <td>0.2634</td>   <td>1.3434</td>  <td>0.1791</td>   <td>-0.1624</td>  <td>0.8703</td>  \n",
       "</tr>\n",
       "<tr>\n",
       "  <th>pminority</th>                 <td>-63.122</td>   <td>30.650</td>   <td>-2.0594</td> <td>0.0395</td>   <td>-123.19</td>  <td>-3.0488</td> \n",
       "</tr>\n",
       "<tr>\n",
       "  <th>pcollege</th>                  <td>6084.3</td>    <td>3232.8</td>   <td>1.8821</td>  <td>0.0598</td>   <td>-251.79</td> <td>1.242e+04</td>\n",
       "</tr>\n",
       "<tr>\n",
       "  <th>medincome</th>                 <td>0.0240</td>    <td>0.0175</td>   <td>1.3720</td>  <td>0.1701</td>   <td>-0.0103</td>  <td>0.0582</td>  \n",
       "</tr>\n",
       "<tr>\n",
       "  <th>total_branches_county</th>     <td>-33.746</td>   <td>22.409</td>   <td>-1.5059</td> <td>0.1321</td>   <td>-77.668</td>  <td>10.175</td>  \n",
       "</tr>\n",
       "<tr>\n",
       "  <th>avg_branch_growth_county</th>  <td>-483.83</td>   <td>964.28</td>   <td>-0.5017</td> <td>0.6158</td>   <td>-2373.8</td>  <td>1406.1</td>  \n",
       "</tr>\n",
       "</table><br/>id: 0x18010833f90"
      ],
      "text/plain": [
       "                         Absorbing LS Estimation Summary                          \n",
       "==================================================================================\n",
       "Dep. Variable:              sbl_total   R-squared:                          0.0116\n",
       "Estimator:               Absorbing LS   Adj. R-squared:                     0.0114\n",
       "No. Observations:               38048   F-statistic:                        89.999\n",
       "Date:                Sun, Oct 20 2024   P-value (F-stat):                   0.0000\n",
       "Time:                        03:09:21   Distribution:                      chi2(9)\n",
       "Cov. Estimator:             clustered   R-squared (No Effects):             0.0116\n",
       "                                        Variables Absorbed:                 0.0000\n",
       "                                    Parameter Estimates                                     \n",
       "============================================================================================\n",
       "                          Parameter  Std. Err.     T-stat    P-value    Lower CI    Upper CI\n",
       "--------------------------------------------------------------------------------------------\n",
       "POST_expose                  3300.7     2464.6     1.3393     0.1805     -1529.8      8131.3\n",
       "poptot                       0.7553     0.2632     2.8700     0.0041      0.2395      1.2711\n",
       "poptot25                     0.0023     0.0029     0.7898     0.4296     -0.0034      0.0079\n",
       "popden                       0.3539     0.2634     1.3434     0.1791     -0.1624      0.8703\n",
       "pminority                   -63.122     30.650    -2.0594     0.0395     -123.19     -3.0488\n",
       "pcollege                     6084.3     3232.8     1.8821     0.0598     -251.79   1.242e+04\n",
       "medincome                    0.0240     0.0175     1.3720     0.1701     -0.0103      0.0582\n",
       "total_branches_county       -33.746     22.409    -1.5059     0.1321     -77.668      10.175\n",
       "avg_branch_growth_county    -483.83     964.28    -0.5017     0.6158     -2373.8      1406.1\n",
       "============================================================================================\n",
       "AbsorbingLSResults, id: 0x18010833f90"
      ]
     },
     "execution_count": 13,
     "metadata": {},
     "output_type": "execute_result"
    }
   ],
   "source": [
    "rf_result_1"
   ]
  },
  {
   "cell_type": "code",
   "execution_count": 18,
   "metadata": {},
   "outputs": [
    {
     "data": {
      "text/html": [
       "<table class=\"simpletable\">\n",
       "<caption>Absorbing LS Estimation Summary</caption>\n",
       "<tr>\n",
       "  <th>Dep. Variable:</th>      <td>sbl_total_num</td>  <th>  R-squared:         </th>     <td>0.0399</td> \n",
       "</tr>\n",
       "<tr>\n",
       "  <th>Estimator:</th>          <td>Absorbing LS</td>   <th>  Adj. R-squared:    </th>     <td>0.0397</td> \n",
       "</tr>\n",
       "<tr>\n",
       "  <th>No. Observations:</th>       <td>38048</td>      <th>  F-statistic:       </th>     <td>170.99</td> \n",
       "</tr>\n",
       "<tr>\n",
       "  <th>Date:</th>             <td>Sun, Oct 20 2024</td> <th>  P-value (F-stat):  </th>     <td>0.0000</td> \n",
       "</tr>\n",
       "<tr>\n",
       "  <th>Time:</th>                 <td>03:09:21</td>     <th>  Distribution:      </th>     <td>chi2(9)</td>\n",
       "</tr>\n",
       "<tr>\n",
       "  <th>Cov. Estimator:</th>       <td>clustered</td>    <th>  R-squared (No Effects):</th> <td>0.0399</td> \n",
       "</tr>\n",
       "<tr>\n",
       "  <th></th>                          <td></td>         <th>  Variables Absorbed:</th>     <td>0.0000</td> \n",
       "</tr>\n",
       "</table>\n",
       "<table class=\"simpletable\">\n",
       "<caption>Parameter Estimates</caption>\n",
       "<tr>\n",
       "              <td></td>             <th>Parameter</th> <th>Std. Err.</th> <th>T-stat</th>  <th>P-value</th> <th>Lower CI</th>  <th>Upper CI</th>\n",
       "</tr>\n",
       "<tr>\n",
       "  <th>POST_expose</th>               <td>29.821</td>    <td>18.189</td>   <td>1.6395</td>  <td>0.1011</td>   <td>-5.8286</td>   <td>65.470</td> \n",
       "</tr>\n",
       "<tr>\n",
       "  <th>poptot</th>                    <td>0.0227</td>    <td>0.0043</td>   <td>5.3018</td>  <td>0.0000</td>   <td>0.0143</td>    <td>0.0312</td> \n",
       "</tr>\n",
       "<tr>\n",
       "  <th>poptot25</th>                  <td>0.0001</td>   <td>3.697e-05</td> <td>2.7514</td>  <td>0.0059</td>  <td>2.926e-05</td>  <td>0.0002</td> \n",
       "</tr>\n",
       "<tr>\n",
       "  <th>popden</th>                    <td>0.0030</td>    <td>0.0025</td>   <td>1.2014</td>  <td>0.2296</td>   <td>-0.0019</td>   <td>0.0080</td> \n",
       "</tr>\n",
       "<tr>\n",
       "  <th>pminority</th>                 <td>-1.0882</td>   <td>0.4103</td>   <td>-2.6519</td> <td>0.0080</td>   <td>-1.8924</td>   <td>-0.2839</td>\n",
       "</tr>\n",
       "<tr>\n",
       "  <th>pcollege</th>                  <td>53.180</td>    <td>42.598</td>   <td>1.2484</td>  <td>0.2119</td>   <td>-30.311</td>   <td>136.67</td> \n",
       "</tr>\n",
       "<tr>\n",
       "  <th>medincome</th>                 <td>0.0005</td>    <td>0.0002</td>   <td>2.8965</td>  <td>0.0038</td>   <td>0.0002</td>    <td>0.0008</td> \n",
       "</tr>\n",
       "<tr>\n",
       "  <th>total_branches_county</th>     <td>-0.4230</td>   <td>0.4549</td>   <td>-0.9298</td> <td>0.3525</td>   <td>-1.3146</td>   <td>0.4686</td> \n",
       "</tr>\n",
       "<tr>\n",
       "  <th>avg_branch_growth_county</th>  <td>-13.834</td>   <td>15.104</td>   <td>-0.9159</td> <td>0.3597</td>   <td>-43.437</td>   <td>15.769</td> \n",
       "</tr>\n",
       "</table><br/>id: 0x1800ea3b8d0"
      ],
      "text/plain": [
       "                         Absorbing LS Estimation Summary                          \n",
       "==================================================================================\n",
       "Dep. Variable:          sbl_total_num   R-squared:                          0.0399\n",
       "Estimator:               Absorbing LS   Adj. R-squared:                     0.0397\n",
       "No. Observations:               38048   F-statistic:                        170.99\n",
       "Date:                Sun, Oct 20 2024   P-value (F-stat):                   0.0000\n",
       "Time:                        03:09:21   Distribution:                      chi2(9)\n",
       "Cov. Estimator:             clustered   R-squared (No Effects):             0.0399\n",
       "                                        Variables Absorbed:                 0.0000\n",
       "                                    Parameter Estimates                                     \n",
       "============================================================================================\n",
       "                          Parameter  Std. Err.     T-stat    P-value    Lower CI    Upper CI\n",
       "--------------------------------------------------------------------------------------------\n",
       "POST_expose                  29.821     18.189     1.6395     0.1011     -5.8286      65.470\n",
       "poptot                       0.0227     0.0043     5.3018     0.0000      0.0143      0.0312\n",
       "poptot25                     0.0001  3.697e-05     2.7514     0.0059   2.926e-05      0.0002\n",
       "popden                       0.0030     0.0025     1.2014     0.2296     -0.0019      0.0080\n",
       "pminority                   -1.0882     0.4103    -2.6519     0.0080     -1.8924     -0.2839\n",
       "pcollege                     53.180     42.598     1.2484     0.2119     -30.311      136.67\n",
       "medincome                    0.0005     0.0002     2.8965     0.0038      0.0002      0.0008\n",
       "total_branches_county       -0.4230     0.4549    -0.9298     0.3525     -1.3146      0.4686\n",
       "avg_branch_growth_county    -13.834     15.104    -0.9159     0.3597     -43.437      15.769\n",
       "============================================================================================\n",
       "AbsorbingLSResults, id: 0x1800ea3b8d0"
      ]
     },
     "execution_count": 18,
     "metadata": {},
     "output_type": "execute_result"
    }
   ],
   "source": [
    "rf_result_3"
   ]
  },
  {
   "cell_type": "code",
   "execution_count": 14,
   "metadata": {},
   "outputs": [],
   "source": [
    "# IV for NumSBL_Rev1 \n",
    "iv_result_1 = run_iv_regression(df_final, 'sbl_total', 'POST_close', 'POST_expose', control_vars)\n",
    "iv_result_2 = run_iv_regression(df_final, 'vol_sbus', 'POST_close', 'POST_expose', control_vars)\n",
    "iv_result_3 = run_iv_regression(df_final, 'sbl_total_num', 'POST_close', 'POST_expose', control_vars)\n",
    "iv_result_4 = run_iv_regression(df_final, 'num_sbus', 'POST_close', 'POST_expose', control_vars)\n"
   ]
  },
  {
   "cell_type": "code",
   "execution_count": 23,
   "metadata": {},
   "outputs": [
    {
     "data": {
      "text/html": [
       "<table class=\"simpletable\">\n",
       "<caption>IV-2SLS Estimation Summary</caption>\n",
       "<tr>\n",
       "  <th>Dep. Variable:</th>        <td>sbl_total</td>    <th>  R-squared:         </th> <td>0.0072</td> \n",
       "</tr>\n",
       "<tr>\n",
       "  <th>Estimator:</th>             <td>IV-2SLS</td>     <th>  Adj. R-squared:    </th> <td>0.0070</td> \n",
       "</tr>\n",
       "<tr>\n",
       "  <th>No. Observations:</th>       <td>38048</td>      <th>  F-statistic:       </th> <td>68.938</td> \n",
       "</tr>\n",
       "<tr>\n",
       "  <th>Date:</th>             <td>Sun, Oct 20 2024</td> <th>  P-value (F-stat)   </th> <td>0.0000</td> \n",
       "</tr>\n",
       "<tr>\n",
       "  <th>Time:</th>                 <td>03:09:22</td>     <th>  Distribution:      </th> <td>chi2(8)</td>\n",
       "</tr>\n",
       "<tr>\n",
       "  <th>Cov. Estimator:</th>       <td>clustered</td>    <th>                     </th>    <td></td>    \n",
       "</tr>\n",
       "<tr>\n",
       "  <th></th>                          <td></td>         <th>                     </th>    <td></td>    \n",
       "</tr>\n",
       "</table>\n",
       "<table class=\"simpletable\">\n",
       "<caption>Parameter Estimates</caption>\n",
       "<tr>\n",
       "              <td></td>             <th>Parameter</th> <th>Std. Err.</th> <th>T-stat</th>  <th>P-value</th> <th>Lower CI</th> <th>Upper CI</th> \n",
       "</tr>\n",
       "<tr>\n",
       "  <th>poptot</th>                    <td>0.7356</td>    <td>0.2595</td>   <td>2.8348</td>  <td>0.0046</td>   <td>0.2270</td>   <td>1.2442</td>  \n",
       "</tr>\n",
       "<tr>\n",
       "  <th>popden</th>                    <td>0.3569</td>    <td>0.2662</td>   <td>1.3405</td>  <td>0.1801</td>   <td>-0.1649</td>  <td>0.8787</td>  \n",
       "</tr>\n",
       "<tr>\n",
       "  <th>pminority</th>                 <td>-57.148</td>   <td>32.967</td>   <td>-1.7335</td> <td>0.0830</td>   <td>-121.76</td>  <td>7.4654</td>  \n",
       "</tr>\n",
       "<tr>\n",
       "  <th>pcollege</th>                  <td>5980.3</td>    <td>3227.8</td>   <td>1.8528</td>  <td>0.0639</td>   <td>-346.03</td> <td>1.231e+04</td>\n",
       "</tr>\n",
       "<tr>\n",
       "  <th>medincome</th>                 <td>0.0246</td>    <td>0.0170</td>   <td>1.4455</td>  <td>0.1483</td>   <td>-0.0087</td>  <td>0.0579</td>  \n",
       "</tr>\n",
       "<tr>\n",
       "  <th>total_branches_county</th>     <td>-31.699</td>   <td>21.854</td>   <td>-1.4505</td> <td>0.1469</td>   <td>-74.532</td>  <td>11.135</td>  \n",
       "</tr>\n",
       "<tr>\n",
       "  <th>avg_branch_growth_county</th>  <td>-601.25</td>   <td>949.13</td>   <td>-0.6335</td> <td>0.5264</td>   <td>-2461.5</td>  <td>1259.0</td>  \n",
       "</tr>\n",
       "<tr>\n",
       "  <th>POST_close</th>                <td>5029.7</td>    <td>3808.1</td>   <td>1.3208</td>  <td>0.1866</td>   <td>-2434.1</td> <td>1.249e+04</td>\n",
       "</tr>\n",
       "</table><br/><br/>Endogenous: POST_close<br/>Instruments: POST_expose<br/>Clustered Covariance (One-Way)<br/>Debiased: False<br/>Num Clusters: 555<br/>id: 0x180150fba50"
      ],
      "text/plain": [
       "                          IV-2SLS Estimation Summary                          \n",
       "==============================================================================\n",
       "Dep. Variable:              sbl_total   R-squared:                      0.0072\n",
       "Estimator:                    IV-2SLS   Adj. R-squared:                 0.0070\n",
       "No. Observations:               38048   F-statistic:                    68.938\n",
       "Date:                Sun, Oct 20 2024   P-value (F-stat)                0.0000\n",
       "Time:                        03:09:22   Distribution:                  chi2(8)\n",
       "Cov. Estimator:             clustered                                         \n",
       "                                                                              \n",
       "                                    Parameter Estimates                                     \n",
       "============================================================================================\n",
       "                          Parameter  Std. Err.     T-stat    P-value    Lower CI    Upper CI\n",
       "--------------------------------------------------------------------------------------------\n",
       "poptot                       0.7356     0.2595     2.8348     0.0046      0.2270      1.2442\n",
       "popden                       0.3569     0.2662     1.3405     0.1801     -0.1649      0.8787\n",
       "pminority                   -57.148     32.967    -1.7335     0.0830     -121.76      7.4654\n",
       "pcollege                     5980.3     3227.8     1.8528     0.0639     -346.03   1.231e+04\n",
       "medincome                    0.0246     0.0170     1.4455     0.1483     -0.0087      0.0579\n",
       "total_branches_county       -31.699     21.854    -1.4505     0.1469     -74.532      11.135\n",
       "avg_branch_growth_county    -601.25     949.13    -0.6335     0.5264     -2461.5      1259.0\n",
       "POST_close                   5029.7     3808.1     1.3208     0.1866     -2434.1   1.249e+04\n",
       "============================================================================================\n",
       "\n",
       "Endogenous: POST_close\n",
       "Instruments: POST_expose\n",
       "Clustered Covariance (One-Way)\n",
       "Debiased: False\n",
       "Num Clusters: 555\n",
       "IVResults, id: 0x180150fba50"
      ]
     },
     "execution_count": 23,
     "metadata": {},
     "output_type": "execute_result"
    }
   ],
   "source": [
    "iv_result_1"
   ]
  },
  {
   "cell_type": "code",
   "execution_count": 19,
   "metadata": {},
   "outputs": [
    {
     "data": {
      "text/html": [
       "<table class=\"simpletable\">\n",
       "<caption>IV-2SLS Estimation Summary</caption>\n",
       "<tr>\n",
       "  <th>Dep. Variable:</th>      <td>sbl_total_num</td>  <th>  R-squared:         </th> <td>0.0350</td> \n",
       "</tr>\n",
       "<tr>\n",
       "  <th>Estimator:</th>             <td>IV-2SLS</td>     <th>  Adj. R-squared:    </th> <td>0.0348</td> \n",
       "</tr>\n",
       "<tr>\n",
       "  <th>No. Observations:</th>       <td>38048</td>      <th>  F-statistic:       </th> <td>147.50</td> \n",
       "</tr>\n",
       "<tr>\n",
       "  <th>Date:</th>             <td>Sun, Oct 20 2024</td> <th>  P-value (F-stat)   </th> <td>0.0000</td> \n",
       "</tr>\n",
       "<tr>\n",
       "  <th>Time:</th>                 <td>03:09:23</td>     <th>  Distribution:      </th> <td>chi2(8)</td>\n",
       "</tr>\n",
       "<tr>\n",
       "  <th>Cov. Estimator:</th>       <td>clustered</td>    <th>                     </th>    <td></td>    \n",
       "</tr>\n",
       "<tr>\n",
       "  <th></th>                          <td></td>         <th>                     </th>    <td></td>    \n",
       "</tr>\n",
       "</table>\n",
       "<table class=\"simpletable\">\n",
       "<caption>Parameter Estimates</caption>\n",
       "<tr>\n",
       "              <td></td>             <th>Parameter</th> <th>Std. Err.</th> <th>T-stat</th>  <th>P-value</th> <th>Lower CI</th> <th>Upper CI</th>\n",
       "</tr>\n",
       "<tr>\n",
       "  <th>poptot</th>                    <td>0.0226</td>    <td>0.0043</td>   <td>5.2862</td>  <td>0.0000</td>   <td>0.0142</td>   <td>0.0310</td> \n",
       "</tr>\n",
       "<tr>\n",
       "  <th>popden</th>                    <td>0.0030</td>    <td>0.0025</td>   <td>1.1972</td>  <td>0.2312</td>   <td>-0.0019</td>  <td>0.0080</td> \n",
       "</tr>\n",
       "<tr>\n",
       "  <th>pminority</th>                 <td>-1.0335</td>   <td>0.4188</td>   <td>-2.4674</td> <td>0.0136</td>   <td>-1.8544</td>  <td>-0.2126</td>\n",
       "</tr>\n",
       "<tr>\n",
       "  <th>pcollege</th>                  <td>52.211</td>    <td>42.478</td>   <td>1.2292</td>  <td>0.2190</td>   <td>-31.043</td>  <td>135.47</td> \n",
       "</tr>\n",
       "<tr>\n",
       "  <th>medincome</th>                 <td>0.0005</td>    <td>0.0002</td>   <td>2.9819</td>  <td>0.0029</td>   <td>0.0002</td>   <td>0.0008</td> \n",
       "</tr>\n",
       "<tr>\n",
       "  <th>total_branches_county</th>     <td>-0.4056</td>   <td>0.4514</td>   <td>-0.8985</td> <td>0.3689</td>   <td>-1.2902</td>  <td>0.4791</td> \n",
       "</tr>\n",
       "<tr>\n",
       "  <th>avg_branch_growth_county</th>  <td>-14.892</td>   <td>14.779</td>   <td>-1.0076</td> <td>0.3136</td>   <td>-43.858</td>  <td>14.075</td> \n",
       "</tr>\n",
       "<tr>\n",
       "  <th>POST_close</th>                <td>45.447</td>    <td>28.243</td>   <td>1.6092</td>  <td>0.1076</td>   <td>-9.9078</td>  <td>100.80</td> \n",
       "</tr>\n",
       "</table><br/><br/>Endogenous: POST_close<br/>Instruments: POST_expose<br/>Clustered Covariance (One-Way)<br/>Debiased: False<br/>Num Clusters: 555<br/>id: 0x1801cca7750"
      ],
      "text/plain": [
       "                          IV-2SLS Estimation Summary                          \n",
       "==============================================================================\n",
       "Dep. Variable:          sbl_total_num   R-squared:                      0.0350\n",
       "Estimator:                    IV-2SLS   Adj. R-squared:                 0.0348\n",
       "No. Observations:               38048   F-statistic:                    147.50\n",
       "Date:                Sun, Oct 20 2024   P-value (F-stat)                0.0000\n",
       "Time:                        03:09:23   Distribution:                  chi2(8)\n",
       "Cov. Estimator:             clustered                                         \n",
       "                                                                              \n",
       "                                    Parameter Estimates                                     \n",
       "============================================================================================\n",
       "                          Parameter  Std. Err.     T-stat    P-value    Lower CI    Upper CI\n",
       "--------------------------------------------------------------------------------------------\n",
       "poptot                       0.0226     0.0043     5.2862     0.0000      0.0142      0.0310\n",
       "popden                       0.0030     0.0025     1.1972     0.2312     -0.0019      0.0080\n",
       "pminority                   -1.0335     0.4188    -2.4674     0.0136     -1.8544     -0.2126\n",
       "pcollege                     52.211     42.478     1.2292     0.2190     -31.043      135.47\n",
       "medincome                    0.0005     0.0002     2.9819     0.0029      0.0002      0.0008\n",
       "total_branches_county       -0.4056     0.4514    -0.8985     0.3689     -1.2902      0.4791\n",
       "avg_branch_growth_county    -14.892     14.779    -1.0076     0.3136     -43.858      14.075\n",
       "POST_close                   45.447     28.243     1.6092     0.1076     -9.9078      100.80\n",
       "============================================================================================\n",
       "\n",
       "Endogenous: POST_close\n",
       "Instruments: POST_expose\n",
       "Clustered Covariance (One-Way)\n",
       "Debiased: False\n",
       "Num Clusters: 555\n",
       "IVResults, id: 0x1801cca7750"
      ]
     },
     "execution_count": 19,
     "metadata": {},
     "output_type": "execute_result"
    }
   ],
   "source": [
    "iv_result_3"
   ]
  },
  {
   "cell_type": "code",
   "execution_count": null,
   "metadata": {},
   "outputs": [
    {
     "data": {
      "text/plain": [
       "25148.483370482347"
      ]
     },
     "metadata": {},
     "output_type": "display_data"
    }
   ],
   "source": [
    "iv_result_1.params['POST_close'] * 5"
   ]
  },
  {
   "cell_type": "code",
   "execution_count": null,
   "metadata": {},
   "outputs": [
    {
     "data": {
      "text/plain": [
       "19040.5749172693"
      ]
     },
     "metadata": {},
     "output_type": "display_data"
    }
   ],
   "source": [
    "iv_result_1.std_errors['POST_close'] * 5"
   ]
  },
  {
   "cell_type": "code",
   "execution_count": 27,
   "metadata": {},
   "outputs": [
    {
     "data": {
      "text/plain": [
       "227.2344857788498"
      ]
     },
     "execution_count": 27,
     "metadata": {},
     "output_type": "execute_result"
    }
   ],
   "source": [
    "iv_result_3.params['POST_close'] * 5"
   ]
  },
  {
   "cell_type": "code",
   "execution_count": 28,
   "metadata": {},
   "outputs": [
    {
     "data": {
      "text/plain": [
       "141.21366907707977"
      ]
     },
     "execution_count": 28,
     "metadata": {},
     "output_type": "execute_result"
    }
   ],
   "source": [
    "iv_result_3.std_errors['POST_close'] * 5"
   ]
  },
  {
   "cell_type": "code",
   "execution_count": 21,
   "metadata": {},
   "outputs": [
    {
     "name": "stdout",
     "output_type": "stream",
     "text": [
      "Mean of sbl_total: 14142.099378881987\n",
      "Mean of vol_sbus: 3272.88198757764\n",
      "Mean of sbl_total_num: 214.22360248447205\n",
      "Mean of num_sbus: 89.13354037267081\n"
     ]
    }
   ],
   "source": [
    "# Step 2: Filter the dataset to keep only rows where event_year == -1 and overlap == 1\n",
    "df_filtered = df[(df['event_year'] == -1) & (df['overlap'] == 1)].copy()\n",
    "\n",
    "# Step 3: Compute the mean of each variable in the filtered data and store as scalars\n",
    "scalars = {}\n",
    "for var in ['sbl_total', 'vol_sbus', 'sbl_total_num', 'num_sbus']:\n",
    "    scalars[var] = df_filtered[var].mean()\n",
    "\n",
    "\n",
    "for var, mean_value in scalars.items():\n",
    "    print(f\"Mean of {var}: {mean_value}\")"
   ]
  },
  {
   "cell_type": "code",
   "execution_count": null,
   "metadata": {},
   "outputs": [],
   "source": []
  }
 ],
 "metadata": {
  "kernelspec": {
   "display_name": "base",
   "language": "python",
   "name": "python3"
  },
  "language_info": {
   "codemirror_mode": {
    "name": "ipython",
    "version": 3
   },
   "file_extension": ".py",
   "mimetype": "text/x-python",
   "name": "python",
   "nbconvert_exporter": "python",
   "pygments_lexer": "ipython3",
   "version": "3.11.5"
  }
 },
 "nbformat": 4,
 "nbformat_minor": 2
}
