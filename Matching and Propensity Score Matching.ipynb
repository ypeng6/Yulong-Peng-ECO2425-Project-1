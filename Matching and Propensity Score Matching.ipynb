{
 "cells": [
  {
   "cell_type": "markdown",
   "metadata": {},
   "source": [
    "## Matching and Propensity Score Matching"
   ]
  },
  {
   "cell_type": "code",
   "execution_count": 1,
   "metadata": {},
   "outputs": [],
   "source": [
    "import pandas as pd\n",
    "import numpy as np\n",
    "import psutil\n",
    "import matplotlib.pyplot as plt\n",
    "import statsmodels.formula.api as smf\n",
    "from sklearn.linear_model import LogisticRegression\n",
    "import seaborn as sns"
   ]
  },
  {
   "cell_type": "code",
   "execution_count": 2,
   "metadata": {},
   "outputs": [
    {
     "name": "stdout",
     "output_type": "stream",
     "text": [
      "Total Memory: 7.45 GB\n",
      "Available Memory: 1.06 GB\n",
      "Used Memory: 6.39 GB\n"
     ]
    }
   ],
   "source": [
    "# Get the virtual memory details\n",
    "memory_info = psutil.virtual_memory()\n",
    "total_memory = memory_info.total\n",
    "available_memory = memory_info.available\n",
    "used_memory = memory_info.used\n",
    "\n",
    "print(f\"Total Memory: {total_memory / (1024 ** 3):.2f} GB\")\n",
    "print(f\"Available Memory: {available_memory / (1024 ** 3):.2f} GB\")\n",
    "print(f\"Used Memory: {used_memory / (1024 ** 3):.2f} GB\")"
   ]
  },
  {
   "cell_type": "code",
   "execution_count": 3,
   "metadata": {},
   "outputs": [],
   "source": [
    "def demean(df, group_vars, vars_to_demean):\n",
    "    \"\"\"\n",
    "    Demean variables by group variables (fixed effects).\n",
    "    \n",
    "    Args:\n",
    "        df (pd.DataFrame): The dataframe containing the data.\n",
    "        group_vars (list of str): List of column names representing the fixed effect variables.\n",
    "        vars_to_demean (list of str): List of variables to demean.\n",
    "        \n",
    "    Returns:\n",
    "        df_demeaned (pd.DataFrame): DataFrame with demeaned variables.\n",
    "    \"\"\"\n",
    "    df_demeaned = df.copy()\n",
    "    \n",
    "    # Group by the fixed effect variables and calculate group means\n",
    "    group_means = df_demeaned.groupby(group_vars, observed=True)[vars_to_demean].transform('mean')\n",
    "    \n",
    "    # Subtract the group means from the original variables to demean\n",
    "    df_demeaned[vars_to_demean] = df[vars_to_demean] - group_means\n",
    "    \n",
    "    return df_demeaned"
   ]
  },
  {
   "cell_type": "code",
   "execution_count": 82,
   "metadata": {},
   "outputs": [],
   "source": [
    "df = pd.read_csv(\"./Final Data/analysis_input3.csv\")\n",
    "df = df.dropna(subset=['overlap'])#.dropna()"
   ]
  },
  {
   "cell_type": "code",
   "execution_count": 83,
   "metadata": {},
   "outputs": [],
   "source": [
    "df['branch_closures_tract_binary'] = np.where(df['branch_closures_tract'] > 0, 1, 0)"
   ]
  },
  {
   "cell_type": "code",
   "execution_count": 120,
   "metadata": {},
   "outputs": [],
   "source": [
    "df = df.dropna(subset = 'exit_overlap')"
   ]
  },
  {
   "cell_type": "code",
   "execution_count": 84,
   "metadata": {},
   "outputs": [],
   "source": [
    "df_preyear = df.copy()"
   ]
  },
  {
   "cell_type": "code",
   "execution_count": 85,
   "metadata": {},
   "outputs": [
    {
     "data": {
      "text/plain": [
       "array([ 0,  5,  6,  7,  8, 11, 12, 13,  9], dtype=int64)"
      ]
     },
     "execution_count": 85,
     "metadata": {},
     "output_type": "execute_result"
    }
   ],
   "source": [
    "df_preyear['mergerID'].unique()"
   ]
  },
  {
   "cell_type": "code",
   "execution_count": 89,
   "metadata": {},
   "outputs": [],
   "source": [
    "T = 'overlap' \n",
    "Y = 'branch_closures_tract_binary'"
   ]
  },
  {
   "cell_type": "code",
   "execution_count": 90,
   "metadata": {},
   "outputs": [],
   "source": [
    "tract_list = ['mergerID','state','county','tract',T, Y,'medincome', 'popden', 'poptot', 'pminority',\n",
    "                          'pcollege','total_branches_county','avg_branch_growth_county']"
   ]
  },
  {
   "cell_type": "code",
   "execution_count": 91,
   "metadata": {},
   "outputs": [],
   "source": [
    "df_preyear = df_preyear[tract_list].dropna(subset=[Y])"
   ]
  },
  {
   "cell_type": "code",
   "execution_count": 92,
   "metadata": {},
   "outputs": [
    {
     "data": {
      "text/plain": [
       "array([ 0,  5,  6,  7,  8, 11, 12, 13,  9], dtype=int64)"
      ]
     },
     "execution_count": 92,
     "metadata": {},
     "output_type": "execute_result"
    }
   ],
   "source": [
    "df_preyear['mergerID'].unique()"
   ]
  },
  {
   "cell_type": "code",
   "execution_count": 93,
   "metadata": {},
   "outputs": [],
   "source": [
    "data_with_categ = pd.concat([\n",
    "    df_preyear.drop(columns='mergerID'), # dataset without the categorical features\n",
    "    pd.get_dummies(df_preyear['mergerID'], columns='mergerID', prefix='merger', drop_first=False)# categorical features converted to dummies\n",
    "], axis=1)"
   ]
  },
  {
   "cell_type": "code",
   "execution_count": 94,
   "metadata": {},
   "outputs": [],
   "source": [
    "data_with_categ = df_preyear"
   ]
  },
  {
   "cell_type": "code",
   "execution_count": 95,
   "metadata": {},
   "outputs": [
    {
     "data": {
      "text/html": [
       "<div>\n",
       "<style scoped>\n",
       "    .dataframe tbody tr th:only-of-type {\n",
       "        vertical-align: middle;\n",
       "    }\n",
       "\n",
       "    .dataframe tbody tr th {\n",
       "        vertical-align: top;\n",
       "    }\n",
       "\n",
       "    .dataframe thead th {\n",
       "        text-align: right;\n",
       "    }\n",
       "</style>\n",
       "<table border=\"1\" class=\"dataframe\">\n",
       "  <thead>\n",
       "    <tr style=\"text-align: right;\">\n",
       "      <th></th>\n",
       "      <th>mergerID</th>\n",
       "      <th>state</th>\n",
       "      <th>county</th>\n",
       "      <th>tract</th>\n",
       "      <th>overlap</th>\n",
       "      <th>branch_closures_tract_binary</th>\n",
       "      <th>medincome</th>\n",
       "      <th>popden</th>\n",
       "      <th>poptot</th>\n",
       "      <th>pminority</th>\n",
       "      <th>pcollege</th>\n",
       "      <th>total_branches_county</th>\n",
       "      <th>avg_branch_growth_county</th>\n",
       "    </tr>\n",
       "  </thead>\n",
       "  <tbody>\n",
       "    <tr>\n",
       "      <th>0</th>\n",
       "      <td>0</td>\n",
       "      <td>36</td>\n",
       "      <td>119</td>\n",
       "      <td>4600.0</td>\n",
       "      <td>0.0</td>\n",
       "      <td>1</td>\n",
       "      <td>100382.0</td>\n",
       "      <td>10662.878788</td>\n",
       "      <td>2815.0</td>\n",
       "      <td>13.25</td>\n",
       "      <td>0.856532</td>\n",
       "      <td>253</td>\n",
       "      <td>0.040083</td>\n",
       "    </tr>\n",
       "    <tr>\n",
       "      <th>1</th>\n",
       "      <td>0</td>\n",
       "      <td>36</td>\n",
       "      <td>119</td>\n",
       "      <td>4600.0</td>\n",
       "      <td>0.0</td>\n",
       "      <td>0</td>\n",
       "      <td>100382.0</td>\n",
       "      <td>10662.878788</td>\n",
       "      <td>2815.0</td>\n",
       "      <td>13.25</td>\n",
       "      <td>0.856532</td>\n",
       "      <td>265</td>\n",
       "      <td>0.031748</td>\n",
       "    </tr>\n",
       "    <tr>\n",
       "      <th>2</th>\n",
       "      <td>0</td>\n",
       "      <td>36</td>\n",
       "      <td>119</td>\n",
       "      <td>4600.0</td>\n",
       "      <td>0.0</td>\n",
       "      <td>0</td>\n",
       "      <td>100382.0</td>\n",
       "      <td>10662.878788</td>\n",
       "      <td>2815.0</td>\n",
       "      <td>13.25</td>\n",
       "      <td>0.856532</td>\n",
       "      <td>263</td>\n",
       "      <td>0.019942</td>\n",
       "    </tr>\n",
       "    <tr>\n",
       "      <th>3</th>\n",
       "      <td>0</td>\n",
       "      <td>36</td>\n",
       "      <td>119</td>\n",
       "      <td>4600.0</td>\n",
       "      <td>0.0</td>\n",
       "      <td>1</td>\n",
       "      <td>100382.0</td>\n",
       "      <td>10662.878788</td>\n",
       "      <td>2815.0</td>\n",
       "      <td>13.25</td>\n",
       "      <td>0.856532</td>\n",
       "      <td>258</td>\n",
       "      <td>-0.013279</td>\n",
       "    </tr>\n",
       "    <tr>\n",
       "      <th>4</th>\n",
       "      <td>0</td>\n",
       "      <td>36</td>\n",
       "      <td>119</td>\n",
       "      <td>4600.0</td>\n",
       "      <td>0.0</td>\n",
       "      <td>0</td>\n",
       "      <td>100382.0</td>\n",
       "      <td>10662.878788</td>\n",
       "      <td>2815.0</td>\n",
       "      <td>13.25</td>\n",
       "      <td>0.856532</td>\n",
       "      <td>283</td>\n",
       "      <td>0.038944</td>\n",
       "    </tr>\n",
       "    <tr>\n",
       "      <th>...</th>\n",
       "      <td>...</td>\n",
       "      <td>...</td>\n",
       "      <td>...</td>\n",
       "      <td>...</td>\n",
       "      <td>...</td>\n",
       "      <td>...</td>\n",
       "      <td>...</td>\n",
       "      <td>...</td>\n",
       "      <td>...</td>\n",
       "      <td>...</td>\n",
       "      <td>...</td>\n",
       "      <td>...</td>\n",
       "      <td>...</td>\n",
       "    </tr>\n",
       "    <tr>\n",
       "      <th>13526</th>\n",
       "      <td>9</td>\n",
       "      <td>51</td>\n",
       "      <td>840</td>\n",
       "      <td>302.0</td>\n",
       "      <td>1.0</td>\n",
       "      <td>0</td>\n",
       "      <td>43750.0</td>\n",
       "      <td>2004.768392</td>\n",
       "      <td>5886.0</td>\n",
       "      <td>31.26</td>\n",
       "      <td>0.555735</td>\n",
       "      <td>14</td>\n",
       "      <td>0.183333</td>\n",
       "    </tr>\n",
       "    <tr>\n",
       "      <th>13527</th>\n",
       "      <td>9</td>\n",
       "      <td>51</td>\n",
       "      <td>840</td>\n",
       "      <td>302.0</td>\n",
       "      <td>1.0</td>\n",
       "      <td>1</td>\n",
       "      <td>43750.0</td>\n",
       "      <td>2004.768392</td>\n",
       "      <td>5886.0</td>\n",
       "      <td>31.26</td>\n",
       "      <td>0.555735</td>\n",
       "      <td>14</td>\n",
       "      <td>0.083333</td>\n",
       "    </tr>\n",
       "    <tr>\n",
       "      <th>13528</th>\n",
       "      <td>9</td>\n",
       "      <td>51</td>\n",
       "      <td>840</td>\n",
       "      <td>302.0</td>\n",
       "      <td>1.0</td>\n",
       "      <td>0</td>\n",
       "      <td>43750.0</td>\n",
       "      <td>2004.768392</td>\n",
       "      <td>5886.0</td>\n",
       "      <td>31.26</td>\n",
       "      <td>0.555735</td>\n",
       "      <td>14</td>\n",
       "      <td>0.000000</td>\n",
       "    </tr>\n",
       "    <tr>\n",
       "      <th>13529</th>\n",
       "      <td>9</td>\n",
       "      <td>51</td>\n",
       "      <td>840</td>\n",
       "      <td>302.0</td>\n",
       "      <td>1.0</td>\n",
       "      <td>1</td>\n",
       "      <td>43750.0</td>\n",
       "      <td>2004.768392</td>\n",
       "      <td>5886.0</td>\n",
       "      <td>31.26</td>\n",
       "      <td>0.555735</td>\n",
       "      <td>11</td>\n",
       "      <td>-0.107143</td>\n",
       "    </tr>\n",
       "    <tr>\n",
       "      <th>13530</th>\n",
       "      <td>9</td>\n",
       "      <td>51</td>\n",
       "      <td>840</td>\n",
       "      <td>302.0</td>\n",
       "      <td>1.0</td>\n",
       "      <td>1</td>\n",
       "      <td>61000.0</td>\n",
       "      <td>2082.425068</td>\n",
       "      <td>6114.0</td>\n",
       "      <td>40.69</td>\n",
       "      <td>0.564390</td>\n",
       "      <td>7</td>\n",
       "      <td>-0.288961</td>\n",
       "    </tr>\n",
       "  </tbody>\n",
       "</table>\n",
       "<p>13531 rows × 13 columns</p>\n",
       "</div>"
      ],
      "text/plain": [
       "       mergerID  state  county   tract  overlap  branch_closures_tract_binary  \\\n",
       "0             0     36     119  4600.0      0.0                             1   \n",
       "1             0     36     119  4600.0      0.0                             0   \n",
       "2             0     36     119  4600.0      0.0                             0   \n",
       "3             0     36     119  4600.0      0.0                             1   \n",
       "4             0     36     119  4600.0      0.0                             0   \n",
       "...         ...    ...     ...     ...      ...                           ...   \n",
       "13526         9     51     840   302.0      1.0                             0   \n",
       "13527         9     51     840   302.0      1.0                             1   \n",
       "13528         9     51     840   302.0      1.0                             0   \n",
       "13529         9     51     840   302.0      1.0                             1   \n",
       "13530         9     51     840   302.0      1.0                             1   \n",
       "\n",
       "       medincome        popden  poptot  pminority  pcollege  \\\n",
       "0       100382.0  10662.878788  2815.0      13.25  0.856532   \n",
       "1       100382.0  10662.878788  2815.0      13.25  0.856532   \n",
       "2       100382.0  10662.878788  2815.0      13.25  0.856532   \n",
       "3       100382.0  10662.878788  2815.0      13.25  0.856532   \n",
       "4       100382.0  10662.878788  2815.0      13.25  0.856532   \n",
       "...          ...           ...     ...        ...       ...   \n",
       "13526    43750.0   2004.768392  5886.0      31.26  0.555735   \n",
       "13527    43750.0   2004.768392  5886.0      31.26  0.555735   \n",
       "13528    43750.0   2004.768392  5886.0      31.26  0.555735   \n",
       "13529    43750.0   2004.768392  5886.0      31.26  0.555735   \n",
       "13530    61000.0   2082.425068  6114.0      40.69  0.564390   \n",
       "\n",
       "       total_branches_county  avg_branch_growth_county  \n",
       "0                        253                  0.040083  \n",
       "1                        265                  0.031748  \n",
       "2                        263                  0.019942  \n",
       "3                        258                 -0.013279  \n",
       "4                        283                  0.038944  \n",
       "...                      ...                       ...  \n",
       "13526                     14                  0.183333  \n",
       "13527                     14                  0.083333  \n",
       "13528                     14                  0.000000  \n",
       "13529                     11                 -0.107143  \n",
       "13530                      7                 -0.288961  \n",
       "\n",
       "[13531 rows x 13 columns]"
      ]
     },
     "execution_count": 95,
     "metadata": {},
     "output_type": "execute_result"
    }
   ],
   "source": [
    "data_with_categ"
   ]
  },
  {
   "cell_type": "code",
   "execution_count": 96,
   "metadata": {},
   "outputs": [],
   "source": [
    "X = data_with_categ.columns.drop(['state','county','tract',T, Y])\n",
    "\n",
    "ps_model = LogisticRegression(C=1e6).fit(data_with_categ[X], data_with_categ[T])\n",
    "\n",
    "data_ps = df_preyear.assign(propensity_score=ps_model.predict_proba(data_with_categ[X])[:, 1])"
   ]
  },
  {
   "cell_type": "code",
   "execution_count": 97,
   "metadata": {},
   "outputs": [
    {
     "data": {
      "text/html": [
       "<div>\n",
       "<style scoped>\n",
       "    .dataframe tbody tr th:only-of-type {\n",
       "        vertical-align: middle;\n",
       "    }\n",
       "\n",
       "    .dataframe tbody tr th {\n",
       "        vertical-align: top;\n",
       "    }\n",
       "\n",
       "    .dataframe thead th {\n",
       "        text-align: right;\n",
       "    }\n",
       "</style>\n",
       "<table border=\"1\" class=\"dataframe\">\n",
       "  <thead>\n",
       "    <tr style=\"text-align: right;\">\n",
       "      <th></th>\n",
       "      <th>overlap</th>\n",
       "      <th>branch_closures_tract_binary</th>\n",
       "      <th>propensity_score</th>\n",
       "    </tr>\n",
       "  </thead>\n",
       "  <tbody>\n",
       "    <tr>\n",
       "      <th>count</th>\n",
       "      <td>13531.000000</td>\n",
       "      <td>13531.000000</td>\n",
       "      <td>13531.000000</td>\n",
       "    </tr>\n",
       "    <tr>\n",
       "      <th>mean</th>\n",
       "      <td>0.451777</td>\n",
       "      <td>0.163476</td>\n",
       "      <td>0.464079</td>\n",
       "    </tr>\n",
       "    <tr>\n",
       "      <th>std</th>\n",
       "      <td>0.497688</td>\n",
       "      <td>0.369813</td>\n",
       "      <td>0.214632</td>\n",
       "    </tr>\n",
       "    <tr>\n",
       "      <th>min</th>\n",
       "      <td>0.000000</td>\n",
       "      <td>0.000000</td>\n",
       "      <td>0.001938</td>\n",
       "    </tr>\n",
       "    <tr>\n",
       "      <th>25%</th>\n",
       "      <td>0.000000</td>\n",
       "      <td>0.000000</td>\n",
       "      <td>0.272698</td>\n",
       "    </tr>\n",
       "    <tr>\n",
       "      <th>50%</th>\n",
       "      <td>0.000000</td>\n",
       "      <td>0.000000</td>\n",
       "      <td>0.499569</td>\n",
       "    </tr>\n",
       "    <tr>\n",
       "      <th>75%</th>\n",
       "      <td>1.000000</td>\n",
       "      <td>0.000000</td>\n",
       "      <td>0.646617</td>\n",
       "    </tr>\n",
       "    <tr>\n",
       "      <th>max</th>\n",
       "      <td>1.000000</td>\n",
       "      <td>1.000000</td>\n",
       "      <td>0.852588</td>\n",
       "    </tr>\n",
       "  </tbody>\n",
       "</table>\n",
       "</div>"
      ],
      "text/plain": [
       "            overlap  branch_closures_tract_binary  propensity_score\n",
       "count  13531.000000                  13531.000000      13531.000000\n",
       "mean       0.451777                      0.163476          0.464079\n",
       "std        0.497688                      0.369813          0.214632\n",
       "min        0.000000                      0.000000          0.001938\n",
       "25%        0.000000                      0.000000          0.272698\n",
       "50%        0.000000                      0.000000          0.499569\n",
       "75%        1.000000                      0.000000          0.646617\n",
       "max        1.000000                      1.000000          0.852588"
      ]
     },
     "execution_count": 97,
     "metadata": {},
     "output_type": "execute_result"
    }
   ],
   "source": [
    "data_ps[[T, Y, \"propensity_score\"]].describe()"
   ]
  },
  {
   "cell_type": "code",
   "execution_count": 98,
   "metadata": {},
   "outputs": [],
   "source": [
    "data_ps = data_ps[~ (data_ps['propensity_score'] < 0.05) & ~ (data_ps['propensity_score'] > 0.95)]"
   ]
  },
  {
   "cell_type": "code",
   "execution_count": 99,
   "metadata": {},
   "outputs": [
    {
     "name": "stdout",
     "output_type": "stream",
     "text": [
      "Original Sample Size 13305\n",
      "Treated Population Sample Size 12228.366340012273\n",
      "Untreated Population Sample Size 13206.66496610734\n"
     ]
    }
   ],
   "source": [
    "weight_t = 1/data_ps.query(f\"{T}==1\")[\"propensity_score\"]\n",
    "weight_nt = 1/(1-data_ps.query(f\"{T}==0\")[\"propensity_score\"])\n",
    "print(\"Original Sample Size\", data_ps.shape[0])\n",
    "print(\"Treated Population Sample Size\", sum(weight_t))\n",
    "print(\"Untreated Population Sample Size\", sum(weight_nt))"
   ]
  },
  {
   "cell_type": "code",
   "execution_count": 102,
   "metadata": {},
   "outputs": [
    {
     "name": "stderr",
     "output_type": "stream",
     "text": [
      "C:\\Users\\yulon\\AppData\\Local\\Temp\\ipykernel_2472\\3364425134.py:1: UserWarning: \n",
      "\n",
      "`distplot` is a deprecated function and will be removed in seaborn v0.14.0.\n",
      "\n",
      "Please adapt your code to use either `displot` (a figure-level function with\n",
      "similar flexibility) or `histplot` (an axes-level function for histograms).\n",
      "\n",
      "For a guide to updating your code to use the new functions, please see\n",
      "https://gist.github.com/mwaskom/de44147ed2974457ad6372750bbe5751\n",
      "\n",
      "  sns.distplot(data_ps.query(f\"{T}==0\")[\"propensity_score\"], kde=False, label=\"Non Treated\")\n",
      "C:\\Users\\yulon\\AppData\\Local\\Temp\\ipykernel_2472\\3364425134.py:2: UserWarning: \n",
      "\n",
      "`distplot` is a deprecated function and will be removed in seaborn v0.14.0.\n",
      "\n",
      "Please adapt your code to use either `displot` (a figure-level function with\n",
      "similar flexibility) or `histplot` (an axes-level function for histograms).\n",
      "\n",
      "For a guide to updating your code to use the new functions, please see\n",
      "https://gist.github.com/mwaskom/de44147ed2974457ad6372750bbe5751\n",
      "\n",
      "  sns.distplot(data_ps.query(f\"{T}==1\")[\"propensity_score\"], kde=False, label=\"Treated\")\n"
     ]
    },
    {
     "data": {
      "image/png": "[encoded data removed]",
      "text/plain": [
       "<Figure size 640x480 with 1 Axes>"
      ]
     },
     "metadata": {},
     "output_type": "display_data"
    }
   ],
   "source": [
    "sns.distplot(data_ps.query(f\"{T}==0\")[\"propensity_score\"], kde=False, label=\"Non Treated\")\n",
    "sns.distplot(data_ps.query(f\"{T}==1\")[\"propensity_score\"], kde=False, label=\"Treated\")\n",
    "plt.title(\"Positivity Check\")\n",
    "plt.legend();"
   ]
  },
  {
   "cell_type": "code",
   "execution_count": 103,
   "metadata": {},
   "outputs": [
    {
     "name": "stdout",
     "output_type": "stream",
     "text": [
      "Y1: 0.16753511339030205\n",
      "Y0: 0.15411169526575114\n",
      "ATE 0.013423418124550815\n"
     ]
    }
   ],
   "source": [
    "weight = ((data_ps[T]-data_ps[\"propensity_score\"]) /\n",
    "          (data_ps[\"propensity_score\"]*(1-data_ps[\"propensity_score\"])))\n",
    "\n",
    "y1 = sum(data_ps.query(f\"{T}==1\")[Y]*weight_t) / len(data_ps)\n",
    "y0 = sum(data_ps.query(f\"{T}==0\")[Y]*weight_nt) / len(data_ps)\n",
    "\n",
    "ate = np.mean(weight * data_ps[Y])\n",
    "\n",
    "print(\"Y1:\", y1)\n",
    "print(\"Y0:\", y0)\n",
    "print(\"ATE\", ate)"
   ]
  },
  {
   "cell_type": "code",
   "execution_count": 104,
   "metadata": {},
   "outputs": [
    {
     "data": {
      "text/html": [
       "<div>\n",
       "<style scoped>\n",
       "    .dataframe tbody tr th:only-of-type {\n",
       "        vertical-align: middle;\n",
       "    }\n",
       "\n",
       "    .dataframe tbody tr th {\n",
       "        vertical-align: top;\n",
       "    }\n",
       "\n",
       "    .dataframe thead th {\n",
       "        text-align: right;\n",
       "    }\n",
       "</style>\n",
       "<table border=\"1\" class=\"dataframe\">\n",
       "  <thead>\n",
       "    <tr style=\"text-align: right;\">\n",
       "      <th></th>\n",
       "      <th>mergerID</th>\n",
       "      <th>state</th>\n",
       "      <th>county</th>\n",
       "      <th>tract</th>\n",
       "      <th>overlap</th>\n",
       "      <th>branch_closures_tract_binary</th>\n",
       "      <th>medincome</th>\n",
       "      <th>popden</th>\n",
       "      <th>poptot</th>\n",
       "      <th>pminority</th>\n",
       "      <th>pcollege</th>\n",
       "      <th>total_branches_county</th>\n",
       "      <th>avg_branch_growth_county</th>\n",
       "      <th>propensity_score</th>\n",
       "    </tr>\n",
       "  </thead>\n",
       "  <tbody>\n",
       "    <tr>\n",
       "      <th>0</th>\n",
       "      <td>0</td>\n",
       "      <td>36</td>\n",
       "      <td>119</td>\n",
       "      <td>4600.0</td>\n",
       "      <td>0.0</td>\n",
       "      <td>1</td>\n",
       "      <td>100382.0</td>\n",
       "      <td>10662.878788</td>\n",
       "      <td>2815.0</td>\n",
       "      <td>13.25</td>\n",
       "      <td>0.856532</td>\n",
       "      <td>253</td>\n",
       "      <td>0.040083</td>\n",
       "      <td>0.100476</td>\n",
       "    </tr>\n",
       "    <tr>\n",
       "      <th>1</th>\n",
       "      <td>0</td>\n",
       "      <td>36</td>\n",
       "      <td>119</td>\n",
       "      <td>4600.0</td>\n",
       "      <td>0.0</td>\n",
       "      <td>0</td>\n",
       "      <td>100382.0</td>\n",
       "      <td>10662.878788</td>\n",
       "      <td>2815.0</td>\n",
       "      <td>13.25</td>\n",
       "      <td>0.856532</td>\n",
       "      <td>265</td>\n",
       "      <td>0.031748</td>\n",
       "      <td>0.093994</td>\n",
       "    </tr>\n",
       "    <tr>\n",
       "      <th>2</th>\n",
       "      <td>0</td>\n",
       "      <td>36</td>\n",
       "      <td>119</td>\n",
       "      <td>4600.0</td>\n",
       "      <td>0.0</td>\n",
       "      <td>0</td>\n",
       "      <td>100382.0</td>\n",
       "      <td>10662.878788</td>\n",
       "      <td>2815.0</td>\n",
       "      <td>13.25</td>\n",
       "      <td>0.856532</td>\n",
       "      <td>263</td>\n",
       "      <td>0.019942</td>\n",
       "      <td>0.095047</td>\n",
       "    </tr>\n",
       "    <tr>\n",
       "      <th>3</th>\n",
       "      <td>0</td>\n",
       "      <td>36</td>\n",
       "      <td>119</td>\n",
       "      <td>4600.0</td>\n",
       "      <td>0.0</td>\n",
       "      <td>1</td>\n",
       "      <td>100382.0</td>\n",
       "      <td>10662.878788</td>\n",
       "      <td>2815.0</td>\n",
       "      <td>13.25</td>\n",
       "      <td>0.856532</td>\n",
       "      <td>258</td>\n",
       "      <td>-0.013279</td>\n",
       "      <td>0.097727</td>\n",
       "    </tr>\n",
       "    <tr>\n",
       "      <th>4</th>\n",
       "      <td>0</td>\n",
       "      <td>36</td>\n",
       "      <td>119</td>\n",
       "      <td>4600.0</td>\n",
       "      <td>0.0</td>\n",
       "      <td>0</td>\n",
       "      <td>100382.0</td>\n",
       "      <td>10662.878788</td>\n",
       "      <td>2815.0</td>\n",
       "      <td>13.25</td>\n",
       "      <td>0.856532</td>\n",
       "      <td>283</td>\n",
       "      <td>0.038944</td>\n",
       "      <td>0.084974</td>\n",
       "    </tr>\n",
       "    <tr>\n",
       "      <th>...</th>\n",
       "      <td>...</td>\n",
       "      <td>...</td>\n",
       "      <td>...</td>\n",
       "      <td>...</td>\n",
       "      <td>...</td>\n",
       "      <td>...</td>\n",
       "      <td>...</td>\n",
       "      <td>...</td>\n",
       "      <td>...</td>\n",
       "      <td>...</td>\n",
       "      <td>...</td>\n",
       "      <td>...</td>\n",
       "      <td>...</td>\n",
       "      <td>...</td>\n",
       "    </tr>\n",
       "    <tr>\n",
       "      <th>13526</th>\n",
       "      <td>9</td>\n",
       "      <td>51</td>\n",
       "      <td>840</td>\n",
       "      <td>302.0</td>\n",
       "      <td>1.0</td>\n",
       "      <td>0</td>\n",
       "      <td>43750.0</td>\n",
       "      <td>2004.768392</td>\n",
       "      <td>5886.0</td>\n",
       "      <td>31.26</td>\n",
       "      <td>0.555735</td>\n",
       "      <td>14</td>\n",
       "      <td>0.183333</td>\n",
       "      <td>0.714791</td>\n",
       "    </tr>\n",
       "    <tr>\n",
       "      <th>13527</th>\n",
       "      <td>9</td>\n",
       "      <td>51</td>\n",
       "      <td>840</td>\n",
       "      <td>302.0</td>\n",
       "      <td>1.0</td>\n",
       "      <td>1</td>\n",
       "      <td>43750.0</td>\n",
       "      <td>2004.768392</td>\n",
       "      <td>5886.0</td>\n",
       "      <td>31.26</td>\n",
       "      <td>0.555735</td>\n",
       "      <td>14</td>\n",
       "      <td>0.083333</td>\n",
       "      <td>0.714784</td>\n",
       "    </tr>\n",
       "    <tr>\n",
       "      <th>13528</th>\n",
       "      <td>9</td>\n",
       "      <td>51</td>\n",
       "      <td>840</td>\n",
       "      <td>302.0</td>\n",
       "      <td>1.0</td>\n",
       "      <td>0</td>\n",
       "      <td>43750.0</td>\n",
       "      <td>2004.768392</td>\n",
       "      <td>5886.0</td>\n",
       "      <td>31.26</td>\n",
       "      <td>0.555735</td>\n",
       "      <td>14</td>\n",
       "      <td>0.000000</td>\n",
       "      <td>0.714778</td>\n",
       "    </tr>\n",
       "    <tr>\n",
       "      <th>13529</th>\n",
       "      <td>9</td>\n",
       "      <td>51</td>\n",
       "      <td>840</td>\n",
       "      <td>302.0</td>\n",
       "      <td>1.0</td>\n",
       "      <td>1</td>\n",
       "      <td>43750.0</td>\n",
       "      <td>2004.768392</td>\n",
       "      <td>5886.0</td>\n",
       "      <td>31.26</td>\n",
       "      <td>0.555735</td>\n",
       "      <td>11</td>\n",
       "      <td>-0.107143</td>\n",
       "      <td>0.718520</td>\n",
       "    </tr>\n",
       "    <tr>\n",
       "      <th>13530</th>\n",
       "      <td>9</td>\n",
       "      <td>51</td>\n",
       "      <td>840</td>\n",
       "      <td>302.0</td>\n",
       "      <td>1.0</td>\n",
       "      <td>1</td>\n",
       "      <td>61000.0</td>\n",
       "      <td>2082.425068</td>\n",
       "      <td>6114.0</td>\n",
       "      <td>40.69</td>\n",
       "      <td>0.564390</td>\n",
       "      <td>7</td>\n",
       "      <td>-0.288961</td>\n",
       "      <td>0.707339</td>\n",
       "    </tr>\n",
       "  </tbody>\n",
       "</table>\n",
       "<p>13305 rows × 14 columns</p>\n",
       "</div>"
      ],
      "text/plain": [
       "       mergerID  state  county   tract  overlap  branch_closures_tract_binary  \\\n",
       "0             0     36     119  4600.0      0.0                             1   \n",
       "1             0     36     119  4600.0      0.0                             0   \n",
       "2             0     36     119  4600.0      0.0                             0   \n",
       "3             0     36     119  4600.0      0.0                             1   \n",
       "4             0     36     119  4600.0      0.0                             0   \n",
       "...         ...    ...     ...     ...      ...                           ...   \n",
       "13526         9     51     840   302.0      1.0                             0   \n",
       "13527         9     51     840   302.0      1.0                             1   \n",
       "13528         9     51     840   302.0      1.0                             0   \n",
       "13529         9     51     840   302.0      1.0                             1   \n",
       "13530         9     51     840   302.0      1.0                             1   \n",
       "\n",
       "       medincome        popden  poptot  pminority  pcollege  \\\n",
       "0       100382.0  10662.878788  2815.0      13.25  0.856532   \n",
       "1       100382.0  10662.878788  2815.0      13.25  0.856532   \n",
       "2       100382.0  10662.878788  2815.0      13.25  0.856532   \n",
       "3       100382.0  10662.878788  2815.0      13.25  0.856532   \n",
       "4       100382.0  10662.878788  2815.0      13.25  0.856532   \n",
       "...          ...           ...     ...        ...       ...   \n",
       "13526    43750.0   2004.768392  5886.0      31.26  0.555735   \n",
       "13527    43750.0   2004.768392  5886.0      31.26  0.555735   \n",
       "13528    43750.0   2004.768392  5886.0      31.26  0.555735   \n",
       "13529    43750.0   2004.768392  5886.0      31.26  0.555735   \n",
       "13530    61000.0   2082.425068  6114.0      40.69  0.564390   \n",
       "\n",
       "       total_branches_county  avg_branch_growth_county  propensity_score  \n",
       "0                        253                  0.040083          0.100476  \n",
       "1                        265                  0.031748          0.093994  \n",
       "2                        263                  0.019942          0.095047  \n",
       "3                        258                 -0.013279          0.097727  \n",
       "4                        283                  0.038944          0.084974  \n",
       "...                      ...                       ...               ...  \n",
       "13526                     14                  0.183333          0.714791  \n",
       "13527                     14                  0.083333          0.714784  \n",
       "13528                     14                  0.000000          0.714778  \n",
       "13529                     11                 -0.107143          0.718520  \n",
       "13530                      7                 -0.288961          0.707339  \n",
       "\n",
       "[13305 rows x 14 columns]"
      ]
     },
     "execution_count": 104,
     "metadata": {},
     "output_type": "execute_result"
    }
   ],
   "source": [
    "data_ps"
   ]
  },
  {
   "cell_type": "code",
   "execution_count": 105,
   "metadata": {},
   "outputs": [
    {
     "data": {
      "text/html": [
       "<table class=\"simpletable\">\n",
       "<tr>\n",
       "      <td></td>         <th>coef</th>     <th>std err</th>      <th>t</th>      <th>P>|t|</th>  <th>[0.025</th>    <th>0.975]</th>  \n",
       "</tr>\n",
       "<tr>\n",
       "  <th>Intercept</th> <td>    0.1526</td> <td>    0.004</td> <td>   35.324</td> <td> 0.000</td> <td>    0.144</td> <td>    0.161</td>\n",
       "</tr>\n",
       "<tr>\n",
       "  <th>overlap</th>   <td>    0.0219</td> <td>    0.006</td> <td>    3.406</td> <td> 0.001</td> <td>    0.009</td> <td>    0.034</td>\n",
       "</tr>\n",
       "</table>"
      ],
      "text/latex": [
       "\\begin{center}\n",
       "\\begin{tabular}{lcccccc}\n",
       "\\toprule\n",
       "                   & \\textbf{coef} & \\textbf{std err} & \\textbf{t} & \\textbf{P$> |$t$|$} & \\textbf{[0.025} & \\textbf{0.975]}  \\\\\n",
       "\\midrule\n",
       "\\textbf{Intercept} &       0.1526  &        0.004     &    35.324  &         0.000        &        0.144    &        0.161     \\\\\n",
       "\\textbf{overlap}   &       0.0219  &        0.006     &     3.406  &         0.001        &        0.009    &        0.034     \\\\\n",
       "\\bottomrule\n",
       "\\end{tabular}\n",
       "\\end{center}"
      ],
      "text/plain": [
       "<class 'statsmodels.iolib.table.SimpleTable'>"
      ]
     },
     "execution_count": 105,
     "metadata": {},
     "output_type": "execute_result"
    }
   ],
   "source": [
    "smf.ols(f\"{Y} ~ {T}\", data=data_ps).fit().summary().tables[1]"
   ]
  },
  {
   "cell_type": "code",
   "execution_count": 106,
   "metadata": {},
   "outputs": [
    {
     "data": {
      "text/html": [
       "<table class=\"simpletable\">\n",
       "<tr>\n",
       "          <td></td>            <th>coef</th>     <th>std err</th>      <th>t</th>      <th>P>|t|</th>  <th>[0.025</th>    <th>0.975]</th>  \n",
       "</tr>\n",
       "<tr>\n",
       "  <th>Intercept</th>        <td>    0.1556</td> <td>    0.008</td> <td>   19.528</td> <td> 0.000</td> <td>    0.140</td> <td>    0.171</td>\n",
       "</tr>\n",
       "<tr>\n",
       "  <th>overlap</th>          <td>    0.0235</td> <td>    0.007</td> <td>    3.180</td> <td> 0.001</td> <td>    0.009</td> <td>    0.038</td>\n",
       "</tr>\n",
       "<tr>\n",
       "  <th>propensity_score</th> <td>   -0.0078</td> <td>    0.018</td> <td>   -0.441</td> <td> 0.659</td> <td>   -0.042</td> <td>    0.027</td>\n",
       "</tr>\n",
       "</table>"
      ],
      "text/latex": [
       "\\begin{center}\n",
       "\\begin{tabular}{lcccccc}\n",
       "\\toprule\n",
       "                           & \\textbf{coef} & \\textbf{std err} & \\textbf{t} & \\textbf{P$> |$t$|$} & \\textbf{[0.025} & \\textbf{0.975]}  \\\\\n",
       "\\midrule\n",
       "\\textbf{Intercept}         &       0.1556  &        0.008     &    19.528  &         0.000        &        0.140    &        0.171     \\\\\n",
       "\\textbf{overlap}           &       0.0235  &        0.007     &     3.180  &         0.001        &        0.009    &        0.038     \\\\\n",
       "\\textbf{propensity\\_score} &      -0.0078  &        0.018     &    -0.441  &         0.659        &       -0.042    &        0.027     \\\\\n",
       "\\bottomrule\n",
       "\\end{tabular}\n",
       "\\end{center}"
      ],
      "text/plain": [
       "<class 'statsmodels.iolib.table.SimpleTable'>"
      ]
     },
     "execution_count": 106,
     "metadata": {},
     "output_type": "execute_result"
    }
   ],
   "source": [
    "smf.ols(f\"{Y} ~ {T} + propensity_score\", data=data_ps).fit().summary().tables[1]"
   ]
  },
  {
   "cell_type": "code",
   "execution_count": 107,
   "metadata": {},
   "outputs": [],
   "source": [
    "from joblib import Parallel, delayed # for parallel processing\n",
    "\n",
    "# define function that computes the IPTW estimator\n",
    "def run_ps(df, X, T, y):\n",
    "    # estimate the propensity score\n",
    "    ps = LogisticRegression(C=1e6, max_iter=1000).fit(df[X], df[T]).predict_proba(df[X])[:, 1]\n",
    "    \n",
    "    weight = (df[T]-ps) / (ps*(1-ps)) # define the weights\n",
    "    return np.mean(weight * df[y]) # compute the ATE\n",
    "\n",
    "np.random.seed(88)\n",
    "# run 1000 bootstrap samples\n",
    "bootstrap_sample = 1000\n",
    "ates = Parallel(n_jobs=4)(delayed(run_ps)(data_with_categ.sample(frac=1, replace=True), X, T, Y)\n",
    "                          for _ in range(bootstrap_sample))\n",
    "ates = np.array(ates)"
   ]
  },
  {
   "cell_type": "code",
   "execution_count": 108,
   "metadata": {},
   "outputs": [
    {
     "name": "stdout",
     "output_type": "stream",
     "text": [
      "LATE: 0.37019775741304356\n",
      "95% C.I.: (0.18047838812827424, 0.6125205387956347)\n"
     ]
    }
   ],
   "source": [
    "print(f\"LATE: {ates.mean()}\")\n",
    "print(f\"95% C.I.: {(np.percentile(ates, 2.5), np.percentile(ates, 97.5))}\")"
   ]
  },
  {
   "cell_type": "code",
   "execution_count": 109,
   "metadata": {},
   "outputs": [
    {
     "name": "stderr",
     "output_type": "stream",
     "text": [
      "C:\\Users\\yulon\\AppData\\Local\\Temp\\ipykernel_2472\\2821369219.py:1: UserWarning: \n",
      "\n",
      "`distplot` is a deprecated function and will be removed in seaborn v0.14.0.\n",
      "\n",
      "Please adapt your code to use either `displot` (a figure-level function with\n",
      "similar flexibility) or `histplot` (an axes-level function for histograms).\n",
      "\n",
      "For a guide to updating your code to use the new functions, please see\n",
      "https://gist.github.com/mwaskom/de44147ed2974457ad6372750bbe5751\n",
      "\n",
      "  sns.distplot(ates, kde=False)\n"
     ]
    },
    {
     "data": {
      "image/png": "[encoded data removed]",
      "text/plain": [
       "<Figure size 640x480 with 1 Axes>"
      ]
     },
     "metadata": {},
     "output_type": "display_data"
    }
   ],
   "source": [
    "sns.distplot(ates, kde=False)\n",
    "plt.vlines(np.percentile(ates, 2.5), 0, 30, linestyles=\"dotted\")\n",
    "plt.vlines(np.percentile(ates, 97.5), 0, 30, linestyles=\"dotted\", label=\"95% CI\")\n",
    "plt.title(\"LATE Bootstrap Distribution\")\n",
    "plt.legend();"
   ]
  },
  {
   "cell_type": "code",
   "execution_count": null,
   "metadata": {},
   "outputs": [],
   "source": []
  }
 ],
 "metadata": {
  "kernelspec": {
   "display_name": "base",
   "language": "python",
   "name": "python3"
  },
  "language_info": {
   "codemirror_mode": {
    "name": "ipython",
    "version": 3
   },
   "file_extension": ".py",
   "mimetype": "text/x-python",
   "name": "python",
   "nbconvert_exporter": "python",
   "pygments_lexer": "ipython3",
   "version": "3.11.5"
  }
 },
 "nbformat": 4,
 "nbformat_minor": 2
}
